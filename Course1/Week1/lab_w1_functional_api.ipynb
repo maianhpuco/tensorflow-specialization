{
  "nbformat": 4,
  "nbformat_minor": 0,
  "metadata": {
    "colab": {
      "provenance": [],
      "collapsed_sections": []
    },
    "kernelspec": {
      "name": "python3",
      "display_name": "Python 3"
    },
    "language_info": {
      "name": "python"
    }
  },
  "cells": [
    {
      "cell_type": "markdown",
      "source": [
        "# FUNCTIONAL API"
      ],
      "metadata": {
        "id": "qDWBJI2I8Dvt"
      }
    },
    {
      "cell_type": "markdown",
      "source": [
        "- Sequential Format"
      ],
      "metadata": {
        "id": "tpIE4xiA8YPq"
      }
    },
    {
      "cell_type": "code",
      "source": [
        "import tensorflow as tf\n",
        "from tensorflow.keras import Sequential\n",
        "from tensorflow.keras.layers import Flatten, Dense \n",
        "from tensorflow.keras.layers import Input\n",
        "from tensorflow.keras.models import Model"
      ],
      "metadata": {
        "id": "MOVUE5gg9muI"
      },
      "execution_count": null,
      "outputs": []
    },
    {
      "cell_type": "code",
      "source": [
        "seq_format = Sequential([\n",
        "    Flatten(input_shape=(28, 28)), \n",
        "    Dense(128, activation='relu'), \n",
        "    Dense(10, activation='softmax')\n",
        "]) "
      ],
      "metadata": {
        "id": "ab3WNWzJ8Ivc"
      },
      "execution_count": null,
      "outputs": []
    },
    {
      "cell_type": "markdown",
      "source": [
        "### Functional API: \n",
        "+ define input\n",
        "+ define layers \n",
        "+ define model "
      ],
      "metadata": {
        "id": "ju08F0hv-OE4"
      }
    },
    {
      "cell_type": "code",
      "source": [
        "# step 1: \n",
        "input = Input(shape=(28, 28))"
      ],
      "metadata": {
        "id": "SvIzoPmg8uH1"
      },
      "execution_count": null,
      "outputs": []
    },
    {
      "cell_type": "code",
      "source": [
        "# step 2:\n",
        "x = Flatten()(input)\n",
        "x = Dense(128, activation='relu')(x)\n",
        "predictions = Dense(10, activation='softmax')(x)"
      ],
      "metadata": {
        "id": "fd0c-LPdAUyo"
      },
      "execution_count": null,
      "outputs": []
    },
    {
      "cell_type": "code",
      "source": [
        "# step 3:\n",
        "func_model = Model(inputs=input, outputs=predictions)"
      ],
      "metadata": {
        "id": "dww-1thsAp5h"
      },
      "execution_count": null,
      "outputs": []
    },
    {
      "cell_type": "markdown",
      "source": [
        "# LAB 1\n"
      ],
      "metadata": {
        "id": "dTmWSLyWD_rI"
      }
    },
    {
      "cell_type": "code",
      "source": [
        "print(tf.__version__)"
      ],
      "metadata": {
        "colab": {
          "base_uri": "https://localhost:8080/"
        },
        "id": "g_OdsT_AEC3M",
        "outputId": "5a976131-d954-4487-ee76-52a962e9c832"
      },
      "execution_count": null,
      "outputs": [
        {
          "output_type": "stream",
          "name": "stdout",
          "text": [
            "2.9.2\n"
          ]
        }
      ]
    },
    {
      "cell_type": "code",
      "source": [
        "import pydot \n",
        "from tensorflow.keras.utils import plot_model"
      ],
      "metadata": {
        "id": "9zthM8wjFMJr"
      },
      "execution_count": null,
      "outputs": []
    },
    {
      "cell_type": "markdown",
      "source": [
        "- sequential api"
      ],
      "metadata": {
        "id": "iPjPH6hTGNrG"
      }
    },
    {
      "cell_type": "code",
      "source": [
        "def build_model_with_sequential():\n",
        "  seq_model = tf.keras.models.Sequential([\n",
        "      Flatten(input_shape=(28,28)), \n",
        "      Dense(128, activation='relu'), \n",
        "      Dense(10, activation='softmax')\n",
        "  ])\n",
        "  return seq_model"
      ],
      "metadata": {
        "id": "0Xc55IfxFxGa"
      },
      "execution_count": null,
      "outputs": []
    },
    {
      "cell_type": "markdown",
      "source": [
        "- functional api"
      ],
      "metadata": {
        "id": "cQD7DykWGq8J"
      }
    },
    {
      "cell_type": "code",
      "source": [
        "def build_model_with_functional():\n",
        "  input_layer = Input(shape=(28, 28))\n",
        "  x = Flatten()(input_layer) \n",
        "  x = Dense(128, activation='relu')(x) \n",
        "  output_layer = Dense(10, activation = 'softmax')(x)\n",
        "  func_model = Model(input_layer, output_layer)\n",
        "  return func_model\n",
        "  "
      ],
      "metadata": {
        "id": "yG9p4duqGqT4"
      },
      "execution_count": null,
      "outputs": []
    },
    {
      "cell_type": "markdown",
      "source": [
        "- test pydot, build model and visualize the graph"
      ],
      "metadata": {
        "id": "w7YPaKWXFivl"
      }
    },
    {
      "cell_type": "code",
      "source": [
        "model = build_model_with_functional()"
      ],
      "metadata": {
        "id": "n3Elzra2FlQd"
      },
      "execution_count": null,
      "outputs": []
    },
    {
      "cell_type": "code",
      "source": [
        "plot_model(model, show_shapes=True, show_layer_names=True, to_file='model.png')\n"
      ],
      "metadata": {
        "colab": {
          "base_uri": "https://localhost:8080/",
          "height": 422
        },
        "id": "ZaS0cybbHflN",
        "outputId": "1f4a2bb8-36be-4044-931b-9dcbeaa92a6f"
      },
      "execution_count": null,
      "outputs": [
        {
          "output_type": "execute_result",
          "data": {
            "image/png": "[encoded data removed]",
            "text/plain": [
              "<IPython.core.display.Image object>"
            ]
          },
          "metadata": {},
          "execution_count": 33
        }
      ]
    },
    {
      "cell_type": "markdown",
      "source": [
        "- Train the model "
      ],
      "metadata": {
        "id": "hAWIgQuOIODz"
      }
    },
    {
      "cell_type": "code",
      "source": [
        "mnist = tf.keras.datasets.fashion_mnist\n",
        "\n",
        "(training_images, training_labels), (testing_images, testing_labels) = mnist.load_data()\n",
        "training_images = training_images/255.0\n",
        "testing_images = testing_images / 255.0"
      ],
      "metadata": {
        "colab": {
          "base_uri": "https://localhost:8080/"
        },
        "id": "s5C9Ws98HpkD",
        "outputId": "a1ebf9bf-896f-4654-f84d-487f05723702"
      },
      "execution_count": null,
      "outputs": [
        {
          "output_type": "stream",
          "name": "stdout",
          "text": [
            "Downloading data from https://storage.googleapis.com/tensorflow/tf-keras-datasets/train-labels-idx1-ubyte.gz\n",
            "29515/29515 [==============================] - 0s 0us/step\n",
            "Downloading data from https://storage.googleapis.com/tensorflow/tf-keras-datasets/train-images-idx3-ubyte.gz\n",
            "26421880/26421880 [==============================] - 0s 0us/step\n",
            "Downloading data from https://storage.googleapis.com/tensorflow/tf-keras-datasets/t10k-labels-idx1-ubyte.gz\n",
            "5148/5148 [==============================] - 0s 0us/step\n",
            "Downloading data from https://storage.googleapis.com/tensorflow/tf-keras-datasets/t10k-images-idx3-ubyte.gz\n",
            "4422102/4422102 [==============================] - 0s 0us/step\n"
          ]
        }
      ]
    },
    {
      "cell_type": "code",
      "source": [
        "model.compile(\n",
        "    optimizer=tf.optimizers.Adam(), \n",
        "    loss = tf.keras.losses.sparse_categorical_crossentropy, \n",
        "    metrics = ['accuracy']\n",
        ")\n",
        "model.fit(training_images, training_labels, epochs=5) \n"
      ],
      "metadata": {
        "colab": {
          "base_uri": "https://localhost:8080/"
        },
        "id": "4MFEk012IsHh",
        "outputId": "d2b2b87b-22be-4691-94b8-eea94abe6691"
      },
      "execution_count": null,
      "outputs": [
        {
          "output_type": "stream",
          "name": "stdout",
          "text": [
            "Epoch 1/5\n",
            "1875/1875 [==============================] - 9s 4ms/step - loss: 0.3759 - accuracy: 0.8651\n",
            "Epoch 2/5\n",
            "1875/1875 [==============================] - 8s 4ms/step - loss: 0.3340 - accuracy: 0.8783\n",
            "Epoch 3/5\n",
            "1875/1875 [==============================] - 7s 4ms/step - loss: 0.3111 - accuracy: 0.8861\n",
            "Epoch 4/5\n",
            "1875/1875 [==============================] - 6s 3ms/step - loss: 0.2937 - accuracy: 0.8906\n",
            "Epoch 5/5\n",
            "1875/1875 [==============================] - 6s 3ms/step - loss: 0.2785 - accuracy: 0.8964\n"
          ]
        },
        {
          "output_type": "execute_result",
          "data": {
            "text/plain": [
              "<keras.callbacks.History at 0x7f60199df690>"
            ]
          },
          "metadata": {},
          "execution_count": 37
        }
      ]
    },
    {
      "cell_type": "code",
      "source": [
        "model.evaluate(testing_images, testing_labels)"
      ],
      "metadata": {
        "colab": {
          "base_uri": "https://localhost:8080/"
        },
        "id": "UZEXTmbXJCk0",
        "outputId": "231fbdd7-ff22-471e-c2ed-509a63f7fac0"
      },
      "execution_count": null,
      "outputs": [
        {
          "output_type": "stream",
          "name": "stdout",
          "text": [
            "313/313 [==============================] - 1s 2ms/step - loss: 0.3521 - accuracy: 0.8725\n"
          ]
        },
        {
          "output_type": "execute_result",
          "data": {
            "text/plain": [
              "[0.3521454632282257, 0.8725000023841858]"
            ]
          },
          "metadata": {},
          "execution_count": 38
        }
      ]
    },
    {
      "cell_type": "markdown",
      "source": [
        "# branching/ Multi-outputs\n",
        "\n",
        "\n",
        "- Note: model like Inception have different brand to learn different fts and then concatenated "
      ],
      "metadata": {
        "id": "9tPF30ooJgPy"
      }
    },
    {
      "cell_type": "code",
      "source": [
        "# func_model = Model(\n",
        "    #inputs = [input_layer_1, input_layer_2], \n",
        "    #outputs = [output_layer_1, output_layer_2])"
      ],
      "metadata": {
        "id": "Zt774yl6JTlK"
      },
      "execution_count": null,
      "outputs": []
    },
    {
      "cell_type": "markdown",
      "source": [
        "- [?] hình có 3 kênh màu sẽ input ntn ? có flatten ra hay không ?\n",
        "- [?] neural network có learn quadratic function ko ?\n"
      ],
      "metadata": {
        "id": "JsbZ2m5IWY-w"
      }
    },
    {
      "cell_type": "code",
      "source": [
        "def model():\n",
        "  input = Input(shape = (8, ))\n",
        "  x = Dense(128, activation='relu')(input)\n",
        "  second = Dense(128, activation='relu')(input)\n",
        "  third = Dense(64, activation = 'relu', name='y1')(second)\n",
        "  y1 = Dense(1, name='y1')(second)\n",
        "  y2 = Dense(1, name='y2')(third)\n",
        "  model = Model(inputs=input, outputs=[y1, y2])\n",
        "  return model"
      ],
      "metadata": {
        "id": "0XTJq9IwRiVV"
      },
      "execution_count": 40,
      "outputs": []
    }
  ]
}