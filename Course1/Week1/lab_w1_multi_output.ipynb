{
  "nbformat": 4,
  "nbformat_minor": 0,
  "metadata": {
    "colab": {
      "provenance": []
    },
    "kernelspec": {
      "name": "python3",
      "display_name": "Python 3"
    },
    "language_info": {
      "name": "python"
    }
  },
  "cells": [
    {
      "cell_type": "markdown",
      "source": [
        "[?] different between: \n",
        "- combine loss\n",
        "- model with 2 brand output \n",
        "\n",
        "\n",
        "[!] với multiple output: mình có thể sử dụng để tăng độ chính xác, mỗi brand học một thuộc tính. -> đoạn share weight có thể là các lowlevel feature của cả 2 brands. \n",
        "\n",
        "\n",
        "# branching/ Multi-outputs\n",
        "\n",
        "\n",
        "- Note: model like Inception have different brand to learn different fts and then concatenated \n",
        "\n"
      ],
      "metadata": {
        "id": "0dUxnVa3bSw_"
      }
    },
    {
      "cell_type": "code",
      "source": [
        "import pandas as pd\n",
        "import tensorflow as tf \n",
        "import numpy as np\n",
        "\n",
        "from tensorflow.keras.layers import Input \n",
        "from tensorflow.keras.models import Model\n",
        "from tensorflow.keras.layers import Dense, Flatten \n",
        "\n",
        "from sklearn.model_selection import train_test_split\n",
        "import matplotlib.pyplot as plt"
      ],
      "metadata": {
        "id": "Qwp9c3qPgqa2"
      },
      "execution_count": null,
      "outputs": []
    },
    {
      "cell_type": "markdown",
      "source": [
        "UTILS"
      ],
      "metadata": {
        "id": "-XksCpgGlEnb"
      }
    },
    {
      "cell_type": "code",
      "source": [
        "def format_output(data):\n",
        "  y1 = data['Y1'] \n",
        "  y2 = data['Y2'] \n",
        "  return y1, y2 \n",
        "\n",
        "def norm(data,train):\n",
        "  return (data - train.mean().values) / train.std().values\n",
        "\n",
        "def plot_diff(y_true, y_pred, title):\n",
        "  plt.scatter(y_true, y_pred)\n",
        "  plt.title(title)\n",
        "  plt.xlabel('True Value')\n",
        "  plt.ylabel('Predicted Value')\n",
        "  plt.show()\n",
        "\n",
        "def plot_metrics(metric_name, title, history):\n",
        "  plt.title(title)\n",
        "  plt.plot(\n",
        "      history.history[metric_name], \n",
        "      color='blue', \n",
        "      label=metric_name\n",
        "      )\n",
        "  plt.plot(\n",
        "      history.history['val_{}'.format(metric_name)], \n",
        "      color='green', \n",
        "      label='val_{}'.format(metric_name)\n",
        "      )\n",
        "  plt.show()"
      ],
      "metadata": {
        "id": "lAAD9ir7lC9-"
      },
      "execution_count": null,
      "outputs": []
    },
    {
      "cell_type": "code",
      "source": [
        "!gdown '1n3X4W7lLGxXWbqZ3WxtUWR9VtFZxg_MI' \n",
        "\n",
        "df = pd.read_excel('/content/ENB2012_data.xlsx')\n",
        "df.shape"
      ],
      "metadata": {
        "id": "X5ZglkMCbbWM",
        "colab": {
          "base_uri": "https://localhost:8080/"
        },
        "outputId": "45089c66-370b-4399-e6ac-6865cb4adc0d"
      },
      "execution_count": null,
      "outputs": [
        {
          "output_type": "stream",
          "name": "stdout",
          "text": [
            "Downloading...\n",
            "From: https://drive.google.com/uc?id=1n3X4W7lLGxXWbqZ3WxtUWR9VtFZxg_MI\n",
            "To: /content/ENB2012_data.xlsx\n",
            "\r  0% 0.00/76.2k [00:00<?, ?B/s]\r100% 76.2k/76.2k [00:00<00:00, 67.1MB/s]\n"
          ]
        },
        {
          "output_type": "execute_result",
          "data": {
            "text/plain": [
              "(768, 10)"
            ]
          },
          "metadata": {},
          "execution_count": 45
        }
      ]
    },
    {
      "cell_type": "code",
      "source": [
        "# sampling df.sample(frac=.1).reset_index(drop=True)"
      ],
      "metadata": {
        "id": "tUtzFwDjgh8t"
      },
      "execution_count": null,
      "outputs": []
    },
    {
      "cell_type": "markdown",
      "source": [],
      "metadata": {
        "id": "M3VzAX6Tko2_"
      }
    },
    {
      "cell_type": "code",
      "source": [
        "train, test = train_test_split(df, test_size=0.2) \n",
        "Xtrain = train.drop(['Y1', 'Y2'], axis=1)\n",
        "Xtest = test.drop(['Y1', 'Y2'], axis=1)\n",
        "ytrain = format_output(train)\n",
        "ytest = format_output(test)\n",
        "\n",
        "X_norm_train = norm(Xtrain, Xtrain)\n",
        "X_norm_test = norm(Xtest, Xtrain)"
      ],
      "metadata": {
        "id": "JICig-5Zk1G-"
      },
      "execution_count": null,
      "outputs": []
    },
    {
      "cell_type": "code",
      "source": [
        "X_norm_train"
      ],
      "metadata": {
        "colab": {
          "base_uri": "https://localhost:8080/",
          "height": 424
        },
        "id": "RDzat2JCObCP",
        "outputId": "6df08d62-94b0-415d-f378-44220fd151a5"
      },
      "execution_count": null,
      "outputs": [
        {
          "output_type": "execute_result",
          "data": {
            "text/plain": [
              "           X1        X2        X3  ...        X6        X7        X8\n",
              "205  0.509740 -0.655817  0.006365  ... -0.457609 -1.003319  0.781074\n",
              "731  0.884231 -0.932188 -0.551896  ...  1.320696  1.254608  1.430032\n",
              "243  2.007703 -1.761299 -0.551896  ...  1.320696 -1.003319  1.430032\n",
              "195  2.007703 -1.761299 -0.551896  ...  1.320696 -1.003319  0.781074\n",
              "101  1.258722 -1.208558  0.006365  ... -0.457609 -1.003319 -0.516841\n",
              "..        ...       ...       ...  ...       ...       ...       ...\n",
              "169 -0.239241  0.173294 -1.668417  ... -0.457609 -1.003319  0.132117\n",
              "734  0.509740 -0.655817  0.006365  ...  0.431543  1.254608  1.430032\n",
              "370 -0.707354  0.726035 -0.551896  ...  0.431543  0.125645 -0.516841\n",
              "19   0.228872 -0.379447  0.564625  ...  1.320696 -1.755962 -1.814756\n",
              "297  0.884231 -0.932188 -0.551896  ... -0.457609  0.125645 -1.165799\n",
              "\n",
              "[614 rows x 8 columns]"
            ],
            "text/html": [
              "\n",
              "  <div id=\"df-b99c5d87-04e0-4fc1-8d01-922e56103f3e\">\n",
              "    <div class=\"colab-df-container\">\n",
              "      <div>\n",
              "<style scoped>\n",
              "    .dataframe tbody tr th:only-of-type {\n",
              "        vertical-align: middle;\n",
              "    }\n",
              "\n",
              "    .dataframe tbody tr th {\n",
              "        vertical-align: top;\n",
              "    }\n",
              "\n",
              "    .dataframe thead th {\n",
              "        text-align: right;\n",
              "    }\n",
              "</style>\n",
              "<table border=\"1\" class=\"dataframe\">\n",
              "  <thead>\n",
              "    <tr style=\"text-align: right;\">\n",
              "      <th></th>\n",
              "      <th>X1</th>\n",
              "      <th>X2</th>\n",
              "      <th>X3</th>\n",
              "      <th>X4</th>\n",
              "      <th>X5</th>\n",
              "      <th>X6</th>\n",
              "      <th>X7</th>\n",
              "      <th>X8</th>\n",
              "    </tr>\n",
              "  </thead>\n",
              "  <tbody>\n",
              "    <tr>\n",
              "      <th>205</th>\n",
              "      <td>0.509740</td>\n",
              "      <td>-0.655817</td>\n",
              "      <td>0.006365</td>\n",
              "      <td>-0.644526</td>\n",
              "      <td>0.992697</td>\n",
              "      <td>-0.457609</td>\n",
              "      <td>-1.003319</td>\n",
              "      <td>0.781074</td>\n",
              "    </tr>\n",
              "    <tr>\n",
              "      <th>731</th>\n",
              "      <td>0.884231</td>\n",
              "      <td>-0.932188</td>\n",
              "      <td>-0.551896</td>\n",
              "      <td>-0.644526</td>\n",
              "      <td>0.992697</td>\n",
              "      <td>1.320696</td>\n",
              "      <td>1.254608</td>\n",
              "      <td>1.430032</td>\n",
              "    </tr>\n",
              "    <tr>\n",
              "      <th>243</th>\n",
              "      <td>2.007703</td>\n",
              "      <td>-1.761299</td>\n",
              "      <td>-0.551896</td>\n",
              "      <td>-1.455466</td>\n",
              "      <td>0.992697</td>\n",
              "      <td>1.320696</td>\n",
              "      <td>-1.003319</td>\n",
              "      <td>1.430032</td>\n",
              "    </tr>\n",
              "    <tr>\n",
              "      <th>195</th>\n",
              "      <td>2.007703</td>\n",
              "      <td>-1.761299</td>\n",
              "      <td>-0.551896</td>\n",
              "      <td>-1.455466</td>\n",
              "      <td>0.992697</td>\n",
              "      <td>1.320696</td>\n",
              "      <td>-1.003319</td>\n",
              "      <td>0.781074</td>\n",
              "    </tr>\n",
              "    <tr>\n",
              "      <th>101</th>\n",
              "      <td>1.258722</td>\n",
              "      <td>-1.208558</td>\n",
              "      <td>0.006365</td>\n",
              "      <td>-1.185153</td>\n",
              "      <td>0.992697</td>\n",
              "      <td>-0.457609</td>\n",
              "      <td>-1.003319</td>\n",
              "      <td>-0.516841</td>\n",
              "    </tr>\n",
              "    <tr>\n",
              "      <th>...</th>\n",
              "      <td>...</td>\n",
              "      <td>...</td>\n",
              "      <td>...</td>\n",
              "      <td>...</td>\n",
              "      <td>...</td>\n",
              "      <td>...</td>\n",
              "      <td>...</td>\n",
              "      <td>...</td>\n",
              "    </tr>\n",
              "    <tr>\n",
              "      <th>169</th>\n",
              "      <td>-0.239241</td>\n",
              "      <td>0.173294</td>\n",
              "      <td>-1.668417</td>\n",
              "      <td>0.977355</td>\n",
              "      <td>-1.005716</td>\n",
              "      <td>-0.457609</td>\n",
              "      <td>-1.003319</td>\n",
              "      <td>0.132117</td>\n",
              "    </tr>\n",
              "    <tr>\n",
              "      <th>734</th>\n",
              "      <td>0.509740</td>\n",
              "      <td>-0.655817</td>\n",
              "      <td>0.006365</td>\n",
              "      <td>-0.644526</td>\n",
              "      <td>0.992697</td>\n",
              "      <td>0.431543</td>\n",
              "      <td>1.254608</td>\n",
              "      <td>1.430032</td>\n",
              "    </tr>\n",
              "    <tr>\n",
              "      <th>370</th>\n",
              "      <td>-0.707354</td>\n",
              "      <td>0.726035</td>\n",
              "      <td>-0.551896</td>\n",
              "      <td>0.977355</td>\n",
              "      <td>-1.005716</td>\n",
              "      <td>0.431543</td>\n",
              "      <td>0.125645</td>\n",
              "      <td>-0.516841</td>\n",
              "    </tr>\n",
              "    <tr>\n",
              "      <th>19</th>\n",
              "      <td>0.228872</td>\n",
              "      <td>-0.379447</td>\n",
              "      <td>0.564625</td>\n",
              "      <td>-0.644526</td>\n",
              "      <td>0.992697</td>\n",
              "      <td>1.320696</td>\n",
              "      <td>-1.755962</td>\n",
              "      <td>-1.814756</td>\n",
              "    </tr>\n",
              "    <tr>\n",
              "      <th>297</th>\n",
              "      <td>0.884231</td>\n",
              "      <td>-0.932188</td>\n",
              "      <td>-0.551896</td>\n",
              "      <td>-0.644526</td>\n",
              "      <td>0.992697</td>\n",
              "      <td>-0.457609</td>\n",
              "      <td>0.125645</td>\n",
              "      <td>-1.165799</td>\n",
              "    </tr>\n",
              "  </tbody>\n",
              "</table>\n",
              "<p>614 rows × 8 columns</p>\n",
              "</div>\n",
              "      <button class=\"colab-df-convert\" onclick=\"convertToInteractive('df-b99c5d87-04e0-4fc1-8d01-922e56103f3e')\"\n",
              "              title=\"Convert this dataframe to an interactive table.\"\n",
              "              style=\"display:none;\">\n",
              "        \n",
              "  <svg xmlns=\"http://www.w3.org/2000/svg\" height=\"24px\"viewBox=\"0 0 24 24\"\n",
              "       width=\"24px\">\n",
              "    <path d=\"M0 0h24v24H0V0z\" fill=\"none\"/>\n",
              "    <path d=\"M18.56 5.44l.94 2.06.94-2.06 2.06-.94-2.06-.94-.94-2.06-.94 2.06-2.06.94zm-11 1L8.5 8.5l.94-2.06 2.06-.94-2.06-.94L8.5 2.5l-.94 2.06-2.06.94zm10 10l.94 2.06.94-2.06 2.06-.94-2.06-.94-.94-2.06-.94 2.06-2.06.94z\"/><path d=\"M17.41 7.96l-1.37-1.37c-.4-.4-.92-.59-1.43-.59-.52 0-1.04.2-1.43.59L10.3 9.45l-7.72 7.72c-.78.78-.78 2.05 0 2.83L4 21.41c.39.39.9.59 1.41.59.51 0 1.02-.2 1.41-.59l7.78-7.78 2.81-2.81c.8-.78.8-2.07 0-2.86zM5.41 20L4 18.59l7.72-7.72 1.47 1.35L5.41 20z\"/>\n",
              "  </svg>\n",
              "      </button>\n",
              "      \n",
              "  <style>\n",
              "    .colab-df-container {\n",
              "      display:flex;\n",
              "      flex-wrap:wrap;\n",
              "      gap: 12px;\n",
              "    }\n",
              "\n",
              "    .colab-df-convert {\n",
              "      background-color: #E8F0FE;\n",
              "      border: none;\n",
              "      border-radius: 50%;\n",
              "      cursor: pointer;\n",
              "      display: none;\n",
              "      fill: #1967D2;\n",
              "      height: 32px;\n",
              "      padding: 0 0 0 0;\n",
              "      width: 32px;\n",
              "    }\n",
              "\n",
              "    .colab-df-convert:hover {\n",
              "      background-color: #E2EBFA;\n",
              "      box-shadow: 0px 1px 2px rgba(60, 64, 67, 0.3), 0px 1px 3px 1px rgba(60, 64, 67, 0.15);\n",
              "      fill: #174EA6;\n",
              "    }\n",
              "\n",
              "    [theme=dark] .colab-df-convert {\n",
              "      background-color: #3B4455;\n",
              "      fill: #D2E3FC;\n",
              "    }\n",
              "\n",
              "    [theme=dark] .colab-df-convert:hover {\n",
              "      background-color: #434B5C;\n",
              "      box-shadow: 0px 1px 3px 1px rgba(0, 0, 0, 0.15);\n",
              "      filter: drop-shadow(0px 1px 2px rgba(0, 0, 0, 0.3));\n",
              "      fill: #FFFFFF;\n",
              "    }\n",
              "  </style>\n",
              "\n",
              "      <script>\n",
              "        const buttonEl =\n",
              "          document.querySelector('#df-b99c5d87-04e0-4fc1-8d01-922e56103f3e button.colab-df-convert');\n",
              "        buttonEl.style.display =\n",
              "          google.colab.kernel.accessAllowed ? 'block' : 'none';\n",
              "\n",
              "        async function convertToInteractive(key) {\n",
              "          const element = document.querySelector('#df-b99c5d87-04e0-4fc1-8d01-922e56103f3e');\n",
              "          const dataTable =\n",
              "            await google.colab.kernel.invokeFunction('convertToInteractive',\n",
              "                                                     [key], {});\n",
              "          if (!dataTable) return;\n",
              "\n",
              "          const docLinkHtml = 'Like what you see? Visit the ' +\n",
              "            '<a target=\"_blank\" href=https://colab.research.google.com/notebooks/data_table.ipynb>data table notebook</a>'\n",
              "            + ' to learn more about interactive tables.';\n",
              "          element.innerHTML = '';\n",
              "          dataTable['output_type'] = 'display_data';\n",
              "          await google.colab.output.renderOutput(dataTable, element);\n",
              "          const docLink = document.createElement('div');\n",
              "          docLink.innerHTML = docLinkHtml;\n",
              "          element.appendChild(docLink);\n",
              "        }\n",
              "      </script>\n",
              "    </div>\n",
              "  </div>\n",
              "  "
            ]
          },
          "metadata": {},
          "execution_count": 106
        }
      ]
    },
    {
      "cell_type": "markdown",
      "source": [
        "Build model"
      ],
      "metadata": {
        "id": "abvExCFKKiCH"
      }
    },
    {
      "cell_type": "code",
      "source": [
        "def get_model(Xtrain):\n",
        "  input_layer = Input(shape=(Xtrain.shape[1]))\n",
        "  x = Dense(128, activation='relu')(input_layer)\n",
        "  x = Dense(128, activation='relu')(x)\n",
        "  third = Dense(64, activation='relu')(x)\n",
        "\n",
        "  y1_output = Dense(1, activation='softmax')(x)\n",
        "  y2_output = Dense(1, activation='softmax')(third)\n",
        "\n",
        "  model = Model(\n",
        "      inputs=input_layer, \n",
        "      outputs=[y1_output, y2_output]\n",
        "  )\n",
        "  return model"
      ],
      "metadata": {
        "id": "RhTYG1nCL1le"
      },
      "execution_count": null,
      "outputs": []
    },
    {
      "cell_type": "code",
      "source": [
        "optimizer = tf.keras.optimizers.SGD(lr=0.01)\n",
        "model = get_model(Xtrain)\n",
        "model.compile(\n",
        "    optimizer=optimizer, \n",
        "    loss={'y1_output': 'mse', 'y2_output': 'mse'}, \n",
        "    metrics={'y1_output': tf.keras.metrics.RootMeanSquaredError(), \n",
        "             'y2_output': tf.keras.metrics.RootMeanSquaredError()}\n",
        ")"
      ],
      "metadata": {
        "colab": {
          "base_uri": "https://localhost:8080/"
        },
        "id": "VtiLyWe9KmQE",
        "outputId": "2d68eb2e-456f-4eed-a2bd-56fcf25ea54f"
      },
      "execution_count": null,
      "outputs": [
        {
          "output_type": "stream",
          "name": "stderr",
          "text": [
            "/usr/local/lib/python3.7/dist-packages/keras/optimizers/optimizer_v2/gradient_descent.py:108: UserWarning: The `lr` argument is deprecated, use `learning_rate` instead.\n",
            "  super(SGD, self).__init__(name, **kwargs)\n"
          ]
        }
      ]
    },
    {
      "cell_type": "markdown",
      "source": [
        "Train model"
      ],
      "metadata": {
        "id": "Fb-YwxiXNAaH"
      }
    },
    {
      "cell_type": "code",
      "source": [
        "X_norm_test.shape"
      ],
      "metadata": {
        "colab": {
          "base_uri": "https://localhost:8080/"
        },
        "id": "fXR9MUp5Py_Z",
        "outputId": "7cfda67b-f490-46e0-97fd-50dbb81f1f6b"
      },
      "execution_count": null,
      "outputs": [
        {
          "output_type": "execute_result",
          "data": {
            "text/plain": [
              "(154, 8)"
            ]
          },
          "metadata": {},
          "execution_count": 116
        }
      ]
    },
    {
      "cell_type": "code",
      "source": [
        "X_norm_train.shape"
      ],
      "metadata": {
        "colab": {
          "base_uri": "https://localhost:8080/"
        },
        "id": "GH-7NmmzP2Gx",
        "outputId": "1f019a89-5dde-4cde-bc8a-66a69ff9a99b"
      },
      "execution_count": null,
      "outputs": [
        {
          "output_type": "execute_result",
          "data": {
            "text/plain": [
              "(614, 8)"
            ]
          },
          "metadata": {},
          "execution_count": 118
        }
      ]
    },
    {
      "cell_type": "code",
      "source": [
        "EPOCHS = 300 \n",
        "BATCH_SIZE = 64 \n",
        "history=model.fit(\n",
        "    X_norm_train,\n",
        "    ytrain, \n",
        "    epochs=EPOCHS, \n",
        "    batch_size=BATCH_SIZE, \n",
        "    validation_data=(X_norm_test, ytest)\n",
        ")"
      ],
      "metadata": {
        "colab": {
          "base_uri": "https://localhost:8080/"
        },
        "id": "8hutbmbTMqd2",
        "outputId": "e37b256a-21aa-4c85-c8a9-1792f086f186"
      },
      "execution_count": null,
      "outputs": [
        {
          "output_type": "stream",
          "name": "stdout",
          "text": [
            "Epoch 1/300\n",
            "10/10 [==============================] - 0s 28ms/step - loss: 3.4816 - y1_output_loss: 0.9465 - y2_output_loss: 2.5351 - y1_output_root_mean_squared_error: 0.9729 - y2_output_root_mean_squared_error: 1.5922 - val_loss: 3.9162 - val_y1_output_loss: 1.1034 - val_y2_output_loss: 2.8129 - val_y1_output_root_mean_squared_error: 1.0504 - val_y2_output_root_mean_squared_error: 1.6772\n",
            "Epoch 2/300\n",
            "10/10 [==============================] - 0s 9ms/step - loss: 3.4255 - y1_output_loss: 0.9476 - y2_output_loss: 2.4779 - y1_output_root_mean_squared_error: 0.9734 - y2_output_root_mean_squared_error: 1.5741 - val_loss: 3.8371 - val_y1_output_loss: 1.0767 - val_y2_output_loss: 2.7605 - val_y1_output_root_mean_squared_error: 1.0376 - val_y2_output_root_mean_squared_error: 1.6615\n",
            "Epoch 3/300\n",
            "10/10 [==============================] - 0s 14ms/step - loss: 3.3911 - y1_output_loss: 0.9069 - y2_output_loss: 2.4842 - y1_output_root_mean_squared_error: 0.9523 - y2_output_root_mean_squared_error: 1.5761 - val_loss: 4.1281 - val_y1_output_loss: 1.2114 - val_y2_output_loss: 2.9168 - val_y1_output_root_mean_squared_error: 1.1006 - val_y2_output_root_mean_squared_error: 1.7079\n",
            "Epoch 4/300\n",
            "10/10 [==============================] - 0s 7ms/step - loss: 3.3329 - y1_output_loss: 0.8879 - y2_output_loss: 2.4451 - y1_output_root_mean_squared_error: 0.9423 - y2_output_root_mean_squared_error: 1.5637 - val_loss: 4.7418 - val_y1_output_loss: 1.1926 - val_y2_output_loss: 3.5492 - val_y1_output_root_mean_squared_error: 1.0921 - val_y2_output_root_mean_squared_error: 1.8839\n",
            "Epoch 5/300\n",
            "10/10 [==============================] - 0s 6ms/step - loss: 3.5598 - y1_output_loss: 0.9751 - y2_output_loss: 2.5847 - y1_output_root_mean_squared_error: 0.9875 - y2_output_root_mean_squared_error: 1.6077 - val_loss: 4.0343 - val_y1_output_loss: 1.0731 - val_y2_output_loss: 2.9611 - val_y1_output_root_mean_squared_error: 1.0359 - val_y2_output_root_mean_squared_error: 1.7208\n",
            "Epoch 6/300\n",
            "10/10 [==============================] - 0s 5ms/step - loss: 3.5045 - y1_output_loss: 0.9174 - y2_output_loss: 2.5871 - y1_output_root_mean_squared_error: 0.9578 - y2_output_root_mean_squared_error: 1.6085 - val_loss: 3.8180 - val_y1_output_loss: 1.0502 - val_y2_output_loss: 2.7677 - val_y1_output_root_mean_squared_error: 1.0248 - val_y2_output_root_mean_squared_error: 1.6637\n",
            "Epoch 7/300\n",
            "10/10 [==============================] - 0s 5ms/step - loss: 3.4243 - y1_output_loss: 0.9076 - y2_output_loss: 2.5168 - y1_output_root_mean_squared_error: 0.9527 - y2_output_root_mean_squared_error: 1.5864 - val_loss: 4.1065 - val_y1_output_loss: 1.1214 - val_y2_output_loss: 2.9851 - val_y1_output_root_mean_squared_error: 1.0590 - val_y2_output_root_mean_squared_error: 1.7277\n",
            "Epoch 8/300\n",
            "10/10 [==============================] - 0s 5ms/step - loss: 3.2764 - y1_output_loss: 0.8870 - y2_output_loss: 2.3894 - y1_output_root_mean_squared_error: 0.9418 - y2_output_root_mean_squared_error: 1.5458 - val_loss: 3.8318 - val_y1_output_loss: 1.0668 - val_y2_output_loss: 2.7650 - val_y1_output_root_mean_squared_error: 1.0329 - val_y2_output_root_mean_squared_error: 1.6628\n",
            "Epoch 9/300\n",
            "10/10 [==============================] - 0s 6ms/step - loss: 3.2197 - y1_output_loss: 0.8669 - y2_output_loss: 2.3528 - y1_output_root_mean_squared_error: 0.9311 - y2_output_root_mean_squared_error: 1.5339 - val_loss: 3.7596 - val_y1_output_loss: 1.0675 - val_y2_output_loss: 2.6921 - val_y1_output_root_mean_squared_error: 1.0332 - val_y2_output_root_mean_squared_error: 1.6408\n",
            "Epoch 10/300\n",
            "10/10 [==============================] - 0s 6ms/step - loss: 3.3170 - y1_output_loss: 0.8543 - y2_output_loss: 2.4627 - y1_output_root_mean_squared_error: 0.9243 - y2_output_root_mean_squared_error: 1.5693 - val_loss: 4.0201 - val_y1_output_loss: 1.0440 - val_y2_output_loss: 2.9761 - val_y1_output_root_mean_squared_error: 1.0217 - val_y2_output_root_mean_squared_error: 1.7252\n",
            "Epoch 11/300\n",
            "10/10 [==============================] - 0s 7ms/step - loss: 3.4673 - y1_output_loss: 0.8614 - y2_output_loss: 2.6059 - y1_output_root_mean_squared_error: 0.9281 - y2_output_root_mean_squared_error: 1.6143 - val_loss: 4.2006 - val_y1_output_loss: 1.1082 - val_y2_output_loss: 3.0924 - val_y1_output_root_mean_squared_error: 1.0527 - val_y2_output_root_mean_squared_error: 1.7585\n",
            "Epoch 12/300\n",
            "10/10 [==============================] - 0s 5ms/step - loss: 3.2341 - y1_output_loss: 0.8534 - y2_output_loss: 2.3807 - y1_output_root_mean_squared_error: 0.9238 - y2_output_root_mean_squared_error: 1.5429 - val_loss: 3.7505 - val_y1_output_loss: 1.0008 - val_y2_output_loss: 2.7497 - val_y1_output_root_mean_squared_error: 1.0004 - val_y2_output_root_mean_squared_error: 1.6582\n",
            "Epoch 13/300\n",
            "10/10 [==============================] - 0s 7ms/step - loss: 3.2740 - y1_output_loss: 0.8483 - y2_output_loss: 2.4257 - y1_output_root_mean_squared_error: 0.9210 - y2_output_root_mean_squared_error: 1.5575 - val_loss: 3.6528 - val_y1_output_loss: 1.0075 - val_y2_output_loss: 2.6453 - val_y1_output_root_mean_squared_error: 1.0037 - val_y2_output_root_mean_squared_error: 1.6264\n",
            "Epoch 14/300\n",
            "10/10 [==============================] - 0s 5ms/step - loss: 3.7235 - y1_output_loss: 0.9452 - y2_output_loss: 2.7783 - y1_output_root_mean_squared_error: 0.9722 - y2_output_root_mean_squared_error: 1.6668 - val_loss: 3.7091 - val_y1_output_loss: 0.9928 - val_y2_output_loss: 2.7162 - val_y1_output_root_mean_squared_error: 0.9964 - val_y2_output_root_mean_squared_error: 1.6481\n",
            "Epoch 15/300\n",
            "10/10 [==============================] - 0s 8ms/step - loss: 3.4190 - y1_output_loss: 0.8732 - y2_output_loss: 2.5458 - y1_output_root_mean_squared_error: 0.9345 - y2_output_root_mean_squared_error: 1.5956 - val_loss: 4.5055 - val_y1_output_loss: 1.1859 - val_y2_output_loss: 3.3197 - val_y1_output_root_mean_squared_error: 1.0890 - val_y2_output_root_mean_squared_error: 1.8220\n",
            "Epoch 16/300\n",
            "10/10 [==============================] - 0s 7ms/step - loss: 3.1946 - y1_output_loss: 0.8334 - y2_output_loss: 2.3612 - y1_output_root_mean_squared_error: 0.9129 - y2_output_root_mean_squared_error: 1.5366 - val_loss: 4.2418 - val_y1_output_loss: 1.0921 - val_y2_output_loss: 3.1497 - val_y1_output_root_mean_squared_error: 1.0450 - val_y2_output_root_mean_squared_error: 1.7747\n",
            "Epoch 17/300\n",
            "10/10 [==============================] - 0s 5ms/step - loss: 3.3351 - y1_output_loss: 0.8465 - y2_output_loss: 2.4885 - y1_output_root_mean_squared_error: 0.9201 - y2_output_root_mean_squared_error: 1.5775 - val_loss: 3.5671 - val_y1_output_loss: 0.9623 - val_y2_output_loss: 2.6048 - val_y1_output_root_mean_squared_error: 0.9810 - val_y2_output_root_mean_squared_error: 1.6139\n",
            "Epoch 18/300\n",
            "10/10 [==============================] - 0s 6ms/step - loss: 3.1356 - y1_output_loss: 0.8275 - y2_output_loss: 2.3081 - y1_output_root_mean_squared_error: 0.9097 - y2_output_root_mean_squared_error: 1.5192 - val_loss: 3.5332 - val_y1_output_loss: 0.9434 - val_y2_output_loss: 2.5898 - val_y1_output_root_mean_squared_error: 0.9713 - val_y2_output_root_mean_squared_error: 1.6093\n",
            "Epoch 19/300\n",
            "10/10 [==============================] - 0s 7ms/step - loss: 3.2142 - y1_output_loss: 0.8167 - y2_output_loss: 2.3975 - y1_output_root_mean_squared_error: 0.9037 - y2_output_root_mean_squared_error: 1.5484 - val_loss: 3.5377 - val_y1_output_loss: 0.9554 - val_y2_output_loss: 2.5823 - val_y1_output_root_mean_squared_error: 0.9775 - val_y2_output_root_mean_squared_error: 1.6069\n",
            "Epoch 20/300\n",
            "10/10 [==============================] - 0s 7ms/step - loss: 3.2650 - y1_output_loss: 0.8227 - y2_output_loss: 2.4423 - y1_output_root_mean_squared_error: 0.9070 - y2_output_root_mean_squared_error: 1.5628 - val_loss: 3.8303 - val_y1_output_loss: 1.0156 - val_y2_output_loss: 2.8147 - val_y1_output_root_mean_squared_error: 1.0078 - val_y2_output_root_mean_squared_error: 1.6777\n",
            "Epoch 21/300\n",
            "10/10 [==============================] - 0s 7ms/step - loss: 3.0471 - y1_output_loss: 0.8068 - y2_output_loss: 2.2403 - y1_output_root_mean_squared_error: 0.8982 - y2_output_root_mean_squared_error: 1.4968 - val_loss: 3.8745 - val_y1_output_loss: 1.0161 - val_y2_output_loss: 2.8583 - val_y1_output_root_mean_squared_error: 1.0080 - val_y2_output_root_mean_squared_error: 1.6907\n",
            "Epoch 22/300\n",
            "10/10 [==============================] - 0s 8ms/step - loss: 3.1363 - y1_output_loss: 0.7659 - y2_output_loss: 2.3704 - y1_output_root_mean_squared_error: 0.8751 - y2_output_root_mean_squared_error: 1.5396 - val_loss: 3.4745 - val_y1_output_loss: 0.9401 - val_y2_output_loss: 2.5344 - val_y1_output_root_mean_squared_error: 0.9696 - val_y2_output_root_mean_squared_error: 1.5920\n",
            "Epoch 23/300\n",
            "10/10 [==============================] - 0s 5ms/step - loss: 3.2323 - y1_output_loss: 0.8390 - y2_output_loss: 2.3933 - y1_output_root_mean_squared_error: 0.9160 - y2_output_root_mean_squared_error: 1.5470 - val_loss: 3.7102 - val_y1_output_loss: 0.9809 - val_y2_output_loss: 2.7293 - val_y1_output_root_mean_squared_error: 0.9904 - val_y2_output_root_mean_squared_error: 1.6520\n",
            "Epoch 24/300\n",
            "10/10 [==============================] - 0s 6ms/step - loss: 3.2807 - y1_output_loss: 0.8055 - y2_output_loss: 2.4752 - y1_output_root_mean_squared_error: 0.8975 - y2_output_root_mean_squared_error: 1.5733 - val_loss: 3.4620 - val_y1_output_loss: 0.9077 - val_y2_output_loss: 2.5542 - val_y1_output_root_mean_squared_error: 0.9528 - val_y2_output_root_mean_squared_error: 1.5982\n",
            "Epoch 25/300\n",
            "10/10 [==============================] - 0s 7ms/step - loss: 3.0352 - y1_output_loss: 0.7723 - y2_output_loss: 2.2629 - y1_output_root_mean_squared_error: 0.8788 - y2_output_root_mean_squared_error: 1.5043 - val_loss: 3.3999 - val_y1_output_loss: 0.8693 - val_y2_output_loss: 2.5306 - val_y1_output_root_mean_squared_error: 0.9324 - val_y2_output_root_mean_squared_error: 1.5908\n",
            "Epoch 26/300\n",
            "10/10 [==============================] - 0s 6ms/step - loss: 2.9522 - y1_output_loss: 0.7583 - y2_output_loss: 2.1939 - y1_output_root_mean_squared_error: 0.8708 - y2_output_root_mean_squared_error: 1.4812 - val_loss: 3.7400 - val_y1_output_loss: 0.9643 - val_y2_output_loss: 2.7757 - val_y1_output_root_mean_squared_error: 0.9820 - val_y2_output_root_mean_squared_error: 1.6660\n",
            "Epoch 27/300\n",
            "10/10 [==============================] - 0s 7ms/step - loss: 3.1744 - y1_output_loss: 0.7672 - y2_output_loss: 2.4072 - y1_output_root_mean_squared_error: 0.8759 - y2_output_root_mean_squared_error: 1.5515 - val_loss: 3.4932 - val_y1_output_loss: 0.9025 - val_y2_output_loss: 2.5907 - val_y1_output_root_mean_squared_error: 0.9500 - val_y2_output_root_mean_squared_error: 1.6096\n",
            "Epoch 28/300\n",
            "10/10 [==============================] - 0s 7ms/step - loss: 2.8811 - y1_output_loss: 0.7186 - y2_output_loss: 2.1625 - y1_output_root_mean_squared_error: 0.8477 - y2_output_root_mean_squared_error: 1.4705 - val_loss: 3.3948 - val_y1_output_loss: 0.8728 - val_y2_output_loss: 2.5219 - val_y1_output_root_mean_squared_error: 0.9343 - val_y2_output_root_mean_squared_error: 1.5881\n",
            "Epoch 29/300\n",
            "10/10 [==============================] - 0s 6ms/step - loss: 2.8676 - y1_output_loss: 0.7146 - y2_output_loss: 2.1530 - y1_output_root_mean_squared_error: 0.8453 - y2_output_root_mean_squared_error: 1.4673 - val_loss: 3.3490 - val_y1_output_loss: 0.8545 - val_y2_output_loss: 2.4946 - val_y1_output_root_mean_squared_error: 0.9244 - val_y2_output_root_mean_squared_error: 1.5794\n",
            "Epoch 30/300\n",
            "10/10 [==============================] - 0s 5ms/step - loss: 3.1765 - y1_output_loss: 0.7718 - y2_output_loss: 2.4047 - y1_output_root_mean_squared_error: 0.8785 - y2_output_root_mean_squared_error: 1.5507 - val_loss: 3.7648 - val_y1_output_loss: 0.9670 - val_y2_output_loss: 2.7977 - val_y1_output_root_mean_squared_error: 0.9834 - val_y2_output_root_mean_squared_error: 1.6726\n",
            "Epoch 31/300\n",
            "10/10 [==============================] - 0s 7ms/step - loss: 2.9107 - y1_output_loss: 0.7112 - y2_output_loss: 2.1995 - y1_output_root_mean_squared_error: 0.8433 - y2_output_root_mean_squared_error: 1.4831 - val_loss: 3.2934 - val_y1_output_loss: 0.8331 - val_y2_output_loss: 2.4603 - val_y1_output_root_mean_squared_error: 0.9128 - val_y2_output_root_mean_squared_error: 1.5685\n",
            "Epoch 32/300\n",
            "10/10 [==============================] - 0s 6ms/step - loss: 2.8323 - y1_output_loss: 0.6901 - y2_output_loss: 2.1422 - y1_output_root_mean_squared_error: 0.8307 - y2_output_root_mean_squared_error: 1.4636 - val_loss: 3.3084 - val_y1_output_loss: 0.8461 - val_y2_output_loss: 2.4623 - val_y1_output_root_mean_squared_error: 0.9198 - val_y2_output_root_mean_squared_error: 1.5692\n",
            "Epoch 33/300\n",
            "10/10 [==============================] - 0s 6ms/step - loss: 3.1383 - y1_output_loss: 0.7382 - y2_output_loss: 2.4000 - y1_output_root_mean_squared_error: 0.8592 - y2_output_root_mean_squared_error: 1.5492 - val_loss: 3.3503 - val_y1_output_loss: 0.8339 - val_y2_output_loss: 2.5164 - val_y1_output_root_mean_squared_error: 0.9132 - val_y2_output_root_mean_squared_error: 1.5863\n",
            "Epoch 34/300\n",
            "10/10 [==============================] - 0s 7ms/step - loss: 3.2225 - y1_output_loss: 0.7793 - y2_output_loss: 2.4432 - y1_output_root_mean_squared_error: 0.8828 - y2_output_root_mean_squared_error: 1.5631 - val_loss: 3.5281 - val_y1_output_loss: 0.9802 - val_y2_output_loss: 2.5479 - val_y1_output_root_mean_squared_error: 0.9901 - val_y2_output_root_mean_squared_error: 1.5962\n",
            "Epoch 35/300\n",
            "10/10 [==============================] - 0s 5ms/step - loss: 2.8136 - y1_output_loss: 0.7137 - y2_output_loss: 2.0999 - y1_output_root_mean_squared_error: 0.8448 - y2_output_root_mean_squared_error: 1.4491 - val_loss: 3.2431 - val_y1_output_loss: 0.8025 - val_y2_output_loss: 2.4406 - val_y1_output_root_mean_squared_error: 0.8958 - val_y2_output_root_mean_squared_error: 1.5623\n",
            "Epoch 36/300\n",
            "10/10 [==============================] - 0s 5ms/step - loss: 2.7334 - y1_output_loss: 0.6662 - y2_output_loss: 2.0672 - y1_output_root_mean_squared_error: 0.8162 - y2_output_root_mean_squared_error: 1.4378 - val_loss: 3.3576 - val_y1_output_loss: 0.8799 - val_y2_output_loss: 2.4777 - val_y1_output_root_mean_squared_error: 0.9380 - val_y2_output_root_mean_squared_error: 1.5741\n",
            "Epoch 37/300\n",
            "10/10 [==============================] - 0s 5ms/step - loss: 3.1938 - y1_output_loss: 0.7436 - y2_output_loss: 2.4503 - y1_output_root_mean_squared_error: 0.8623 - y2_output_root_mean_squared_error: 1.5653 - val_loss: 3.2067 - val_y1_output_loss: 0.7774 - val_y2_output_loss: 2.4293 - val_y1_output_root_mean_squared_error: 0.8817 - val_y2_output_root_mean_squared_error: 1.5586\n",
            "Epoch 38/300\n",
            "10/10 [==============================] - 0s 5ms/step - loss: 2.7655 - y1_output_loss: 0.6925 - y2_output_loss: 2.0730 - y1_output_root_mean_squared_error: 0.8322 - y2_output_root_mean_squared_error: 1.4398 - val_loss: 4.1145 - val_y1_output_loss: 0.9203 - val_y2_output_loss: 3.1942 - val_y1_output_root_mean_squared_error: 0.9593 - val_y2_output_root_mean_squared_error: 1.7872\n",
            "Epoch 39/300\n",
            "10/10 [==============================] - 0s 5ms/step - loss: 3.1680 - y1_output_loss: 0.7458 - y2_output_loss: 2.4221 - y1_output_root_mean_squared_error: 0.8636 - y2_output_root_mean_squared_error: 1.5563 - val_loss: 3.6449 - val_y1_output_loss: 0.8547 - val_y2_output_loss: 2.7901 - val_y1_output_root_mean_squared_error: 0.9245 - val_y2_output_root_mean_squared_error: 1.6704\n",
            "Epoch 40/300\n",
            "10/10 [==============================] - 0s 8ms/step - loss: 2.8703 - y1_output_loss: 0.6955 - y2_output_loss: 2.1748 - y1_output_root_mean_squared_error: 0.8339 - y2_output_root_mean_squared_error: 1.4747 - val_loss: 3.2114 - val_y1_output_loss: 0.7930 - val_y2_output_loss: 2.4184 - val_y1_output_root_mean_squared_error: 0.8905 - val_y2_output_root_mean_squared_error: 1.5551\n",
            "Epoch 41/300\n",
            "10/10 [==============================] - 0s 5ms/step - loss: 2.7329 - y1_output_loss: 0.6367 - y2_output_loss: 2.0963 - y1_output_root_mean_squared_error: 0.7979 - y2_output_root_mean_squared_error: 1.4479 - val_loss: 3.2088 - val_y1_output_loss: 0.8019 - val_y2_output_loss: 2.4069 - val_y1_output_root_mean_squared_error: 0.8955 - val_y2_output_root_mean_squared_error: 1.5514\n",
            "Epoch 42/300\n",
            "10/10 [==============================] - 0s 6ms/step - loss: 2.7654 - y1_output_loss: 0.6691 - y2_output_loss: 2.0963 - y1_output_root_mean_squared_error: 0.8180 - y2_output_root_mean_squared_error: 1.4479 - val_loss: 3.2805 - val_y1_output_loss: 0.8458 - val_y2_output_loss: 2.4347 - val_y1_output_root_mean_squared_error: 0.9197 - val_y2_output_root_mean_squared_error: 1.5604\n",
            "Epoch 43/300\n",
            "10/10 [==============================] - 0s 6ms/step - loss: 2.6623 - y1_output_loss: 0.6532 - y2_output_loss: 2.0092 - y1_output_root_mean_squared_error: 0.8082 - y2_output_root_mean_squared_error: 1.4174 - val_loss: 3.1193 - val_y1_output_loss: 0.7597 - val_y2_output_loss: 2.3596 - val_y1_output_root_mean_squared_error: 0.8716 - val_y2_output_root_mean_squared_error: 1.5361\n",
            "Epoch 44/300\n",
            "10/10 [==============================] - 0s 7ms/step - loss: 2.6782 - y1_output_loss: 0.6169 - y2_output_loss: 2.0614 - y1_output_root_mean_squared_error: 0.7854 - y2_output_root_mean_squared_error: 1.4357 - val_loss: 3.4866 - val_y1_output_loss: 0.8835 - val_y2_output_loss: 2.6031 - val_y1_output_root_mean_squared_error: 0.9400 - val_y2_output_root_mean_squared_error: 1.6134\n",
            "Epoch 45/300\n",
            "10/10 [==============================] - 0s 5ms/step - loss: 2.6884 - y1_output_loss: 0.6512 - y2_output_loss: 2.0372 - y1_output_root_mean_squared_error: 0.8070 - y2_output_root_mean_squared_error: 1.4273 - val_loss: 3.1830 - val_y1_output_loss: 0.7806 - val_y2_output_loss: 2.4024 - val_y1_output_root_mean_squared_error: 0.8835 - val_y2_output_root_mean_squared_error: 1.5500\n",
            "Epoch 46/300\n",
            "10/10 [==============================] - 0s 7ms/step - loss: 2.8340 - y1_output_loss: 0.6666 - y2_output_loss: 2.1674 - y1_output_root_mean_squared_error: 0.8165 - y2_output_root_mean_squared_error: 1.4722 - val_loss: 3.0462 - val_y1_output_loss: 0.7276 - val_y2_output_loss: 2.3186 - val_y1_output_root_mean_squared_error: 0.8530 - val_y2_output_root_mean_squared_error: 1.5227\n",
            "Epoch 47/300\n",
            "10/10 [==============================] - 0s 7ms/step - loss: 2.7231 - y1_output_loss: 0.6245 - y2_output_loss: 2.0986 - y1_output_root_mean_squared_error: 0.7902 - y2_output_root_mean_squared_error: 1.4487 - val_loss: 3.0407 - val_y1_output_loss: 0.7354 - val_y2_output_loss: 2.3053 - val_y1_output_root_mean_squared_error: 0.8575 - val_y2_output_root_mean_squared_error: 1.5183\n",
            "Epoch 48/300\n",
            "10/10 [==============================] - 0s 6ms/step - loss: 2.5814 - y1_output_loss: 0.5978 - y2_output_loss: 1.9836 - y1_output_root_mean_squared_error: 0.7732 - y2_output_root_mean_squared_error: 1.4084 - val_loss: 3.0289 - val_y1_output_loss: 0.7148 - val_y2_output_loss: 2.3141 - val_y1_output_root_mean_squared_error: 0.8454 - val_y2_output_root_mean_squared_error: 1.5212\n",
            "Epoch 49/300\n",
            "10/10 [==============================] - 0s 7ms/step - loss: 2.5726 - y1_output_loss: 0.6091 - y2_output_loss: 1.9635 - y1_output_root_mean_squared_error: 0.7805 - y2_output_root_mean_squared_error: 1.4012 - val_loss: 3.1334 - val_y1_output_loss: 0.7455 - val_y2_output_loss: 2.3879 - val_y1_output_root_mean_squared_error: 0.8635 - val_y2_output_root_mean_squared_error: 1.5453\n",
            "Epoch 50/300\n",
            "10/10 [==============================] - 0s 5ms/step - loss: 2.6756 - y1_output_loss: 0.6098 - y2_output_loss: 2.0658 - y1_output_root_mean_squared_error: 0.7809 - y2_output_root_mean_squared_error: 1.4373 - val_loss: 2.9960 - val_y1_output_loss: 0.7030 - val_y2_output_loss: 2.2931 - val_y1_output_root_mean_squared_error: 0.8384 - val_y2_output_root_mean_squared_error: 1.5143\n",
            "Epoch 51/300\n",
            "10/10 [==============================] - 0s 5ms/step - loss: 2.5498 - y1_output_loss: 0.5924 - y2_output_loss: 1.9574 - y1_output_root_mean_squared_error: 0.7697 - y2_output_root_mean_squared_error: 1.3991 - val_loss: 2.9785 - val_y1_output_loss: 0.6933 - val_y2_output_loss: 2.2852 - val_y1_output_root_mean_squared_error: 0.8327 - val_y2_output_root_mean_squared_error: 1.5117\n",
            "Epoch 52/300\n",
            "10/10 [==============================] - 0s 5ms/step - loss: 2.6290 - y1_output_loss: 0.6062 - y2_output_loss: 2.0228 - y1_output_root_mean_squared_error: 0.7786 - y2_output_root_mean_squared_error: 1.4223 - val_loss: 3.2924 - val_y1_output_loss: 0.8442 - val_y2_output_loss: 2.4482 - val_y1_output_root_mean_squared_error: 0.9188 - val_y2_output_root_mean_squared_error: 1.5647\n",
            "Epoch 53/300\n",
            "10/10 [==============================] - 0s 6ms/step - loss: 2.5561 - y1_output_loss: 0.5947 - y2_output_loss: 1.9614 - y1_output_root_mean_squared_error: 0.7712 - y2_output_root_mean_squared_error: 1.4005 - val_loss: 2.9795 - val_y1_output_loss: 0.7062 - val_y2_output_loss: 2.2733 - val_y1_output_root_mean_squared_error: 0.8404 - val_y2_output_root_mean_squared_error: 1.5077\n",
            "Epoch 54/300\n",
            "10/10 [==============================] - 0s 6ms/step - loss: 2.7123 - y1_output_loss: 0.6484 - y2_output_loss: 2.0639 - y1_output_root_mean_squared_error: 0.8053 - y2_output_root_mean_squared_error: 1.4366 - val_loss: 3.2885 - val_y1_output_loss: 0.7975 - val_y2_output_loss: 2.4910 - val_y1_output_root_mean_squared_error: 0.8930 - val_y2_output_root_mean_squared_error: 1.5783\n",
            "Epoch 55/300\n",
            "10/10 [==============================] - 0s 5ms/step - loss: 2.5956 - y1_output_loss: 0.6112 - y2_output_loss: 1.9844 - y1_output_root_mean_squared_error: 0.7818 - y2_output_root_mean_squared_error: 1.4087 - val_loss: 2.9253 - val_y1_output_loss: 0.6846 - val_y2_output_loss: 2.2407 - val_y1_output_root_mean_squared_error: 0.8274 - val_y2_output_root_mean_squared_error: 1.4969\n",
            "Epoch 56/300\n",
            "10/10 [==============================] - 0s 5ms/step - loss: 2.6181 - y1_output_loss: 0.5775 - y2_output_loss: 2.0406 - y1_output_root_mean_squared_error: 0.7599 - y2_output_root_mean_squared_error: 1.4285 - val_loss: 2.9627 - val_y1_output_loss: 0.6810 - val_y2_output_loss: 2.2817 - val_y1_output_root_mean_squared_error: 0.8252 - val_y2_output_root_mean_squared_error: 1.5105\n",
            "Epoch 57/300\n",
            "10/10 [==============================] - 0s 7ms/step - loss: 2.5346 - y1_output_loss: 0.5931 - y2_output_loss: 1.9415 - y1_output_root_mean_squared_error: 0.7701 - y2_output_root_mean_squared_error: 1.3934 - val_loss: 3.1118 - val_y1_output_loss: 0.7267 - val_y2_output_loss: 2.3851 - val_y1_output_root_mean_squared_error: 0.8525 - val_y2_output_root_mean_squared_error: 1.5444\n",
            "Epoch 58/300\n",
            "10/10 [==============================] - 0s 6ms/step - loss: 2.8858 - y1_output_loss: 0.6460 - y2_output_loss: 2.2398 - y1_output_root_mean_squared_error: 0.8038 - y2_output_root_mean_squared_error: 1.4966 - val_loss: 3.0268 - val_y1_output_loss: 0.6876 - val_y2_output_loss: 2.3392 - val_y1_output_root_mean_squared_error: 0.8292 - val_y2_output_root_mean_squared_error: 1.5294\n",
            "Epoch 59/300\n",
            "10/10 [==============================] - 0s 6ms/step - loss: 2.5834 - y1_output_loss: 0.5591 - y2_output_loss: 2.0243 - y1_output_root_mean_squared_error: 0.7478 - y2_output_root_mean_squared_error: 1.4228 - val_loss: 4.1009 - val_y1_output_loss: 0.9740 - val_y2_output_loss: 3.1269 - val_y1_output_root_mean_squared_error: 0.9869 - val_y2_output_root_mean_squared_error: 1.7683\n",
            "Epoch 60/300\n",
            "10/10 [==============================] - 0s 7ms/step - loss: 2.5078 - y1_output_loss: 0.5838 - y2_output_loss: 1.9240 - y1_output_root_mean_squared_error: 0.7641 - y2_output_root_mean_squared_error: 1.3871 - val_loss: 3.2621 - val_y1_output_loss: 0.7188 - val_y2_output_loss: 2.5432 - val_y1_output_root_mean_squared_error: 0.8478 - val_y2_output_root_mean_squared_error: 1.5947\n",
            "Epoch 61/300\n",
            "10/10 [==============================] - 0s 5ms/step - loss: 2.5181 - y1_output_loss: 0.5796 - y2_output_loss: 1.9385 - y1_output_root_mean_squared_error: 0.7613 - y2_output_root_mean_squared_error: 1.3923 - val_loss: 3.0339 - val_y1_output_loss: 0.6580 - val_y2_output_loss: 2.3758 - val_y1_output_root_mean_squared_error: 0.8112 - val_y2_output_root_mean_squared_error: 1.5414\n",
            "Epoch 62/300\n",
            "10/10 [==============================] - 0s 7ms/step - loss: 2.4851 - y1_output_loss: 0.5468 - y2_output_loss: 1.9384 - y1_output_root_mean_squared_error: 0.7394 - y2_output_root_mean_squared_error: 1.3923 - val_loss: 2.8676 - val_y1_output_loss: 0.6593 - val_y2_output_loss: 2.2083 - val_y1_output_root_mean_squared_error: 0.8120 - val_y2_output_root_mean_squared_error: 1.4860\n",
            "Epoch 63/300\n",
            "10/10 [==============================] - 0s 5ms/step - loss: 2.4819 - y1_output_loss: 0.5531 - y2_output_loss: 1.9288 - y1_output_root_mean_squared_error: 0.7437 - y2_output_root_mean_squared_error: 1.3888 - val_loss: 2.8627 - val_y1_output_loss: 0.6503 - val_y2_output_loss: 2.2124 - val_y1_output_root_mean_squared_error: 0.8064 - val_y2_output_root_mean_squared_error: 1.4874\n",
            "Epoch 64/300\n",
            "10/10 [==============================] - 0s 7ms/step - loss: 2.5613 - y1_output_loss: 0.6055 - y2_output_loss: 1.9558 - y1_output_root_mean_squared_error: 0.7781 - y2_output_root_mean_squared_error: 1.3985 - val_loss: 2.9479 - val_y1_output_loss: 0.7412 - val_y2_output_loss: 2.2066 - val_y1_output_root_mean_squared_error: 0.8609 - val_y2_output_root_mean_squared_error: 1.4855\n",
            "Epoch 65/300\n",
            "10/10 [==============================] - 0s 7ms/step - loss: 2.4833 - y1_output_loss: 0.5734 - y2_output_loss: 1.9100 - y1_output_root_mean_squared_error: 0.7572 - y2_output_root_mean_squared_error: 1.3820 - val_loss: 2.9657 - val_y1_output_loss: 0.6665 - val_y2_output_loss: 2.2992 - val_y1_output_root_mean_squared_error: 0.8164 - val_y2_output_root_mean_squared_error: 1.5163\n",
            "Epoch 66/300\n",
            "10/10 [==============================] - 0s 6ms/step - loss: 2.5151 - y1_output_loss: 0.5870 - y2_output_loss: 1.9282 - y1_output_root_mean_squared_error: 0.7661 - y2_output_root_mean_squared_error: 1.3886 - val_loss: 2.8944 - val_y1_output_loss: 0.6501 - val_y2_output_loss: 2.2444 - val_y1_output_root_mean_squared_error: 0.8063 - val_y2_output_root_mean_squared_error: 1.4981\n",
            "Epoch 67/300\n",
            "10/10 [==============================] - 0s 6ms/step - loss: 2.4345 - y1_output_loss: 0.5648 - y2_output_loss: 1.8697 - y1_output_root_mean_squared_error: 0.7515 - y2_output_root_mean_squared_error: 1.3674 - val_loss: 2.9110 - val_y1_output_loss: 0.6761 - val_y2_output_loss: 2.2350 - val_y1_output_root_mean_squared_error: 0.8222 - val_y2_output_root_mean_squared_error: 1.4950\n",
            "Epoch 68/300\n",
            "10/10 [==============================] - 0s 5ms/step - loss: 2.3803 - y1_output_loss: 0.5543 - y2_output_loss: 1.8260 - y1_output_root_mean_squared_error: 0.7445 - y2_output_root_mean_squared_error: 1.3513 - val_loss: 3.2583 - val_y1_output_loss: 0.7638 - val_y2_output_loss: 2.4945 - val_y1_output_root_mean_squared_error: 0.8739 - val_y2_output_root_mean_squared_error: 1.5794\n",
            "Epoch 69/300\n",
            "10/10 [==============================] - 0s 5ms/step - loss: 2.4108 - y1_output_loss: 0.5648 - y2_output_loss: 1.8460 - y1_output_root_mean_squared_error: 0.7515 - y2_output_root_mean_squared_error: 1.3587 - val_loss: 2.7908 - val_y1_output_loss: 0.6149 - val_y2_output_loss: 2.1760 - val_y1_output_root_mean_squared_error: 0.7841 - val_y2_output_root_mean_squared_error: 1.4751\n",
            "Epoch 70/300\n",
            "10/10 [==============================] - 0s 8ms/step - loss: 2.3825 - y1_output_loss: 0.5299 - y2_output_loss: 1.8526 - y1_output_root_mean_squared_error: 0.7279 - y2_output_root_mean_squared_error: 1.3611 - val_loss: 3.1166 - val_y1_output_loss: 0.7082 - val_y2_output_loss: 2.4084 - val_y1_output_root_mean_squared_error: 0.8415 - val_y2_output_root_mean_squared_error: 1.5519\n",
            "Epoch 71/300\n",
            "10/10 [==============================] - 0s 7ms/step - loss: 2.5471 - y1_output_loss: 0.6046 - y2_output_loss: 1.9425 - y1_output_root_mean_squared_error: 0.7775 - y2_output_root_mean_squared_error: 1.3937 - val_loss: 3.0285 - val_y1_output_loss: 0.7286 - val_y2_output_loss: 2.2999 - val_y1_output_root_mean_squared_error: 0.8536 - val_y2_output_root_mean_squared_error: 1.5165\n",
            "Epoch 72/300\n",
            "10/10 [==============================] - 0s 8ms/step - loss: 3.1320 - y1_output_loss: 0.6897 - y2_output_loss: 2.4424 - y1_output_root_mean_squared_error: 0.8305 - y2_output_root_mean_squared_error: 1.5628 - val_loss: 2.7344 - val_y1_output_loss: 0.6202 - val_y2_output_loss: 2.1142 - val_y1_output_root_mean_squared_error: 0.7875 - val_y2_output_root_mean_squared_error: 1.4540\n",
            "Epoch 73/300\n",
            "10/10 [==============================] - 0s 8ms/step - loss: 2.3901 - y1_output_loss: 0.5325 - y2_output_loss: 1.8576 - y1_output_root_mean_squared_error: 0.7297 - y2_output_root_mean_squared_error: 1.3629 - val_loss: 2.7703 - val_y1_output_loss: 0.5922 - val_y2_output_loss: 2.1782 - val_y1_output_root_mean_squared_error: 0.7695 - val_y2_output_root_mean_squared_error: 1.4759\n",
            "Epoch 74/300\n",
            "10/10 [==============================] - 0s 6ms/step - loss: 2.3600 - y1_output_loss: 0.5207 - y2_output_loss: 1.8393 - y1_output_root_mean_squared_error: 0.7216 - y2_output_root_mean_squared_error: 1.3562 - val_loss: 2.7453 - val_y1_output_loss: 0.6235 - val_y2_output_loss: 2.1218 - val_y1_output_root_mean_squared_error: 0.7896 - val_y2_output_root_mean_squared_error: 1.4567\n",
            "Epoch 75/300\n",
            "10/10 [==============================] - 0s 6ms/step - loss: 2.3499 - y1_output_loss: 0.5376 - y2_output_loss: 1.8122 - y1_output_root_mean_squared_error: 0.7332 - y2_output_root_mean_squared_error: 1.3462 - val_loss: 2.8040 - val_y1_output_loss: 0.6291 - val_y2_output_loss: 2.1749 - val_y1_output_root_mean_squared_error: 0.7932 - val_y2_output_root_mean_squared_error: 1.4748\n",
            "Epoch 76/300\n",
            "10/10 [==============================] - 0s 6ms/step - loss: 2.3925 - y1_output_loss: 0.5630 - y2_output_loss: 1.8295 - y1_output_root_mean_squared_error: 0.7503 - y2_output_root_mean_squared_error: 1.3526 - val_loss: 2.6616 - val_y1_output_loss: 0.5709 - val_y2_output_loss: 2.0907 - val_y1_output_root_mean_squared_error: 0.7555 - val_y2_output_root_mean_squared_error: 1.4459\n",
            "Epoch 77/300\n",
            "10/10 [==============================] - 0s 7ms/step - loss: 2.3020 - y1_output_loss: 0.5064 - y2_output_loss: 1.7956 - y1_output_root_mean_squared_error: 0.7116 - y2_output_root_mean_squared_error: 1.3400 - val_loss: 3.2504 - val_y1_output_loss: 0.6802 - val_y2_output_loss: 2.5702 - val_y1_output_root_mean_squared_error: 0.8247 - val_y2_output_root_mean_squared_error: 1.6032\n",
            "Epoch 78/300\n",
            "10/10 [==============================] - 0s 7ms/step - loss: 2.3471 - y1_output_loss: 0.5262 - y2_output_loss: 1.8209 - y1_output_root_mean_squared_error: 0.7254 - y2_output_root_mean_squared_error: 1.3494 - val_loss: 2.7815 - val_y1_output_loss: 0.6030 - val_y2_output_loss: 2.1785 - val_y1_output_root_mean_squared_error: 0.7765 - val_y2_output_root_mean_squared_error: 1.4760\n",
            "Epoch 79/300\n",
            "10/10 [==============================] - 0s 5ms/step - loss: 2.3214 - y1_output_loss: 0.5192 - y2_output_loss: 1.8022 - y1_output_root_mean_squared_error: 0.7205 - y2_output_root_mean_squared_error: 1.3425 - val_loss: 2.6963 - val_y1_output_loss: 0.5715 - val_y2_output_loss: 2.1248 - val_y1_output_root_mean_squared_error: 0.7560 - val_y2_output_root_mean_squared_error: 1.4577\n",
            "Epoch 80/300\n",
            "10/10 [==============================] - 0s 7ms/step - loss: 2.3364 - y1_output_loss: 0.5183 - y2_output_loss: 1.8181 - y1_output_root_mean_squared_error: 0.7199 - y2_output_root_mean_squared_error: 1.3484 - val_loss: 2.7981 - val_y1_output_loss: 0.5937 - val_y2_output_loss: 2.2044 - val_y1_output_root_mean_squared_error: 0.7705 - val_y2_output_root_mean_squared_error: 1.4847\n",
            "Epoch 81/300\n",
            "10/10 [==============================] - 0s 6ms/step - loss: 2.2877 - y1_output_loss: 0.5180 - y2_output_loss: 1.7698 - y1_output_root_mean_squared_error: 0.7197 - y2_output_root_mean_squared_error: 1.3303 - val_loss: 2.6671 - val_y1_output_loss: 0.5733 - val_y2_output_loss: 2.0939 - val_y1_output_root_mean_squared_error: 0.7571 - val_y2_output_root_mean_squared_error: 1.4470\n",
            "Epoch 82/300\n",
            "10/10 [==============================] - 0s 6ms/step - loss: 2.3281 - y1_output_loss: 0.5255 - y2_output_loss: 1.8026 - y1_output_root_mean_squared_error: 0.7249 - y2_output_root_mean_squared_error: 1.3426 - val_loss: 2.8808 - val_y1_output_loss: 0.5794 - val_y2_output_loss: 2.3014 - val_y1_output_root_mean_squared_error: 0.7612 - val_y2_output_root_mean_squared_error: 1.5171\n",
            "Epoch 83/300\n",
            "10/10 [==============================] - 0s 8ms/step - loss: 3.0898 - y1_output_loss: 0.6849 - y2_output_loss: 2.4049 - y1_output_root_mean_squared_error: 0.8276 - y2_output_root_mean_squared_error: 1.5508 - val_loss: 2.6402 - val_y1_output_loss: 0.5705 - val_y2_output_loss: 2.0697 - val_y1_output_root_mean_squared_error: 0.7553 - val_y2_output_root_mean_squared_error: 1.4386\n",
            "Epoch 84/300\n",
            "10/10 [==============================] - 0s 7ms/step - loss: 2.6976 - y1_output_loss: 0.6030 - y2_output_loss: 2.0947 - y1_output_root_mean_squared_error: 0.7765 - y2_output_root_mean_squared_error: 1.4473 - val_loss: 3.9303 - val_y1_output_loss: 0.9008 - val_y2_output_loss: 3.0295 - val_y1_output_root_mean_squared_error: 0.9491 - val_y2_output_root_mean_squared_error: 1.7406\n",
            "Epoch 85/300\n",
            "10/10 [==============================] - 0s 6ms/step - loss: 2.7628 - y1_output_loss: 0.6669 - y2_output_loss: 2.0959 - y1_output_root_mean_squared_error: 0.8166 - y2_output_root_mean_squared_error: 1.4477 - val_loss: 2.7033 - val_y1_output_loss: 0.5761 - val_y2_output_loss: 2.1272 - val_y1_output_root_mean_squared_error: 0.7590 - val_y2_output_root_mean_squared_error: 1.4585\n",
            "Epoch 86/300\n",
            "10/10 [==============================] - 0s 7ms/step - loss: 2.3898 - y1_output_loss: 0.5398 - y2_output_loss: 1.8500 - y1_output_root_mean_squared_error: 0.7347 - y2_output_root_mean_squared_error: 1.3601 - val_loss: 2.5883 - val_y1_output_loss: 0.5410 - val_y2_output_loss: 2.0474 - val_y1_output_root_mean_squared_error: 0.7355 - val_y2_output_root_mean_squared_error: 1.4309\n",
            "Epoch 87/300\n",
            "10/10 [==============================] - 0s 8ms/step - loss: 2.3584 - y1_output_loss: 0.5297 - y2_output_loss: 1.8288 - y1_output_root_mean_squared_error: 0.7278 - y2_output_root_mean_squared_error: 1.3523 - val_loss: 2.6735 - val_y1_output_loss: 0.5958 - val_y2_output_loss: 2.0778 - val_y1_output_root_mean_squared_error: 0.7718 - val_y2_output_root_mean_squared_error: 1.4415\n",
            "Epoch 88/300\n",
            "10/10 [==============================] - 0s 6ms/step - loss: 2.2021 - y1_output_loss: 0.4750 - y2_output_loss: 1.7272 - y1_output_root_mean_squared_error: 0.6892 - y2_output_root_mean_squared_error: 1.3142 - val_loss: 2.7068 - val_y1_output_loss: 0.5872 - val_y2_output_loss: 2.1196 - val_y1_output_root_mean_squared_error: 0.7663 - val_y2_output_root_mean_squared_error: 1.4559\n",
            "Epoch 89/300\n",
            "10/10 [==============================] - 0s 7ms/step - loss: 2.2608 - y1_output_loss: 0.4903 - y2_output_loss: 1.7705 - y1_output_root_mean_squared_error: 0.7002 - y2_output_root_mean_squared_error: 1.3306 - val_loss: 2.8097 - val_y1_output_loss: 0.5924 - val_y2_output_loss: 2.2173 - val_y1_output_root_mean_squared_error: 0.7697 - val_y2_output_root_mean_squared_error: 1.4891\n",
            "Epoch 90/300\n",
            "10/10 [==============================] - 0s 5ms/step - loss: 2.5781 - y1_output_loss: 0.5987 - y2_output_loss: 1.9794 - y1_output_root_mean_squared_error: 0.7738 - y2_output_root_mean_squared_error: 1.4069 - val_loss: 2.7114 - val_y1_output_loss: 0.5820 - val_y2_output_loss: 2.1293 - val_y1_output_root_mean_squared_error: 0.7629 - val_y2_output_root_mean_squared_error: 1.4592\n",
            "Epoch 91/300\n",
            "10/10 [==============================] - 0s 5ms/step - loss: 2.2367 - y1_output_loss: 0.4767 - y2_output_loss: 1.7601 - y1_output_root_mean_squared_error: 0.6904 - y2_output_root_mean_squared_error: 1.3267 - val_loss: 2.5544 - val_y1_output_loss: 0.5400 - val_y2_output_loss: 2.0144 - val_y1_output_root_mean_squared_error: 0.7349 - val_y2_output_root_mean_squared_error: 1.4193\n",
            "Epoch 92/300\n",
            "10/10 [==============================] - 0s 7ms/step - loss: 2.1892 - y1_output_loss: 0.4821 - y2_output_loss: 1.7071 - y1_output_root_mean_squared_error: 0.6943 - y2_output_root_mean_squared_error: 1.3066 - val_loss: 2.5497 - val_y1_output_loss: 0.5376 - val_y2_output_loss: 2.0122 - val_y1_output_root_mean_squared_error: 0.7332 - val_y2_output_root_mean_squared_error: 1.4185\n",
            "Epoch 93/300\n",
            "10/10 [==============================] - 0s 5ms/step - loss: 2.2874 - y1_output_loss: 0.5030 - y2_output_loss: 1.7843 - y1_output_root_mean_squared_error: 0.7093 - y2_output_root_mean_squared_error: 1.3358 - val_loss: 2.6872 - val_y1_output_loss: 0.5966 - val_y2_output_loss: 2.0906 - val_y1_output_root_mean_squared_error: 0.7724 - val_y2_output_root_mean_squared_error: 1.4459\n",
            "Epoch 94/300\n",
            "10/10 [==============================] - 0s 6ms/step - loss: 2.7575 - y1_output_loss: 0.5865 - y2_output_loss: 2.1711 - y1_output_root_mean_squared_error: 0.7658 - y2_output_root_mean_squared_error: 1.4735 - val_loss: 2.5124 - val_y1_output_loss: 0.5316 - val_y2_output_loss: 1.9808 - val_y1_output_root_mean_squared_error: 0.7291 - val_y2_output_root_mean_squared_error: 1.4074\n",
            "Epoch 95/300\n",
            "10/10 [==============================] - 0s 7ms/step - loss: 2.2528 - y1_output_loss: 0.4816 - y2_output_loss: 1.7712 - y1_output_root_mean_squared_error: 0.6939 - y2_output_root_mean_squared_error: 1.3309 - val_loss: 4.5259 - val_y1_output_loss: 0.9593 - val_y2_output_loss: 3.5666 - val_y1_output_root_mean_squared_error: 0.9795 - val_y2_output_root_mean_squared_error: 1.8885\n",
            "Epoch 96/300\n",
            "10/10 [==============================] - 0s 6ms/step - loss: 2.8742 - y1_output_loss: 0.5729 - y2_output_loss: 2.3013 - y1_output_root_mean_squared_error: 0.7569 - y2_output_root_mean_squared_error: 1.5170 - val_loss: 2.5339 - val_y1_output_loss: 0.5283 - val_y2_output_loss: 2.0056 - val_y1_output_root_mean_squared_error: 0.7269 - val_y2_output_root_mean_squared_error: 1.4162\n",
            "Epoch 97/300\n",
            "10/10 [==============================] - 0s 8ms/step - loss: 2.1972 - y1_output_loss: 0.4676 - y2_output_loss: 1.7296 - y1_output_root_mean_squared_error: 0.6838 - y2_output_root_mean_squared_error: 1.3152 - val_loss: 2.5468 - val_y1_output_loss: 0.5452 - val_y2_output_loss: 2.0016 - val_y1_output_root_mean_squared_error: 0.7384 - val_y2_output_root_mean_squared_error: 1.4148\n",
            "Epoch 98/300\n",
            "10/10 [==============================] - 0s 8ms/step - loss: 2.2032 - y1_output_loss: 0.4666 - y2_output_loss: 1.7366 - y1_output_root_mean_squared_error: 0.6831 - y2_output_root_mean_squared_error: 1.3178 - val_loss: 2.9821 - val_y1_output_loss: 0.5409 - val_y2_output_loss: 2.4411 - val_y1_output_root_mean_squared_error: 0.7355 - val_y2_output_root_mean_squared_error: 1.5624\n",
            "Epoch 99/300\n",
            "10/10 [==============================] - 0s 8ms/step - loss: 2.5758 - y1_output_loss: 0.5737 - y2_output_loss: 2.0022 - y1_output_root_mean_squared_error: 0.7574 - y2_output_root_mean_squared_error: 1.4150 - val_loss: 2.6371 - val_y1_output_loss: 0.5296 - val_y2_output_loss: 2.1075 - val_y1_output_root_mean_squared_error: 0.7277 - val_y2_output_root_mean_squared_error: 1.4517\n",
            "Epoch 100/300\n",
            "10/10 [==============================] - 0s 6ms/step - loss: 2.2988 - y1_output_loss: 0.5116 - y2_output_loss: 1.7872 - y1_output_root_mean_squared_error: 0.7152 - y2_output_root_mean_squared_error: 1.3369 - val_loss: 2.4713 - val_y1_output_loss: 0.5244 - val_y2_output_loss: 1.9469 - val_y1_output_root_mean_squared_error: 0.7241 - val_y2_output_root_mean_squared_error: 1.3953\n",
            "Epoch 101/300\n",
            "10/10 [==============================] - 0s 7ms/step - loss: 2.1357 - y1_output_loss: 0.4682 - y2_output_loss: 1.6674 - y1_output_root_mean_squared_error: 0.6843 - y2_output_root_mean_squared_error: 1.2913 - val_loss: 2.7298 - val_y1_output_loss: 0.5605 - val_y2_output_loss: 2.1693 - val_y1_output_root_mean_squared_error: 0.7487 - val_y2_output_root_mean_squared_error: 1.4729\n",
            "Epoch 102/300\n",
            "10/10 [==============================] - 0s 6ms/step - loss: 2.3330 - y1_output_loss: 0.5026 - y2_output_loss: 1.8304 - y1_output_root_mean_squared_error: 0.7089 - y2_output_root_mean_squared_error: 1.3529 - val_loss: 2.4671 - val_y1_output_loss: 0.5321 - val_y2_output_loss: 1.9350 - val_y1_output_root_mean_squared_error: 0.7295 - val_y2_output_root_mean_squared_error: 1.3910\n",
            "Epoch 103/300\n",
            "10/10 [==============================] - 0s 6ms/step - loss: 2.1850 - y1_output_loss: 0.5023 - y2_output_loss: 1.6827 - y1_output_root_mean_squared_error: 0.7087 - y2_output_root_mean_squared_error: 1.2972 - val_loss: 2.5985 - val_y1_output_loss: 0.5969 - val_y2_output_loss: 2.0016 - val_y1_output_root_mean_squared_error: 0.7726 - val_y2_output_root_mean_squared_error: 1.4148\n",
            "Epoch 104/300\n",
            "10/10 [==============================] - 0s 6ms/step - loss: 2.2216 - y1_output_loss: 0.4897 - y2_output_loss: 1.7319 - y1_output_root_mean_squared_error: 0.6998 - y2_output_root_mean_squared_error: 1.3160 - val_loss: 2.6450 - val_y1_output_loss: 0.5600 - val_y2_output_loss: 2.0850 - val_y1_output_root_mean_squared_error: 0.7484 - val_y2_output_root_mean_squared_error: 1.4439\n",
            "Epoch 105/300\n",
            "10/10 [==============================] - 0s 6ms/step - loss: 2.2432 - y1_output_loss: 0.4823 - y2_output_loss: 1.7609 - y1_output_root_mean_squared_error: 0.6945 - y2_output_root_mean_squared_error: 1.3270 - val_loss: 2.6889 - val_y1_output_loss: 0.5948 - val_y2_output_loss: 2.0941 - val_y1_output_root_mean_squared_error: 0.7712 - val_y2_output_root_mean_squared_error: 1.4471\n",
            "Epoch 106/300\n",
            "10/10 [==============================] - 0s 8ms/step - loss: 2.4438 - y1_output_loss: 0.5590 - y2_output_loss: 1.8848 - y1_output_root_mean_squared_error: 0.7477 - y2_output_root_mean_squared_error: 1.3729 - val_loss: 3.3130 - val_y1_output_loss: 0.7011 - val_y2_output_loss: 2.6119 - val_y1_output_root_mean_squared_error: 0.8373 - val_y2_output_root_mean_squared_error: 1.6161\n",
            "Epoch 107/300\n",
            "10/10 [==============================] - 0s 6ms/step - loss: 2.4676 - y1_output_loss: 0.6067 - y2_output_loss: 1.8610 - y1_output_root_mean_squared_error: 0.7789 - y2_output_root_mean_squared_error: 1.3642 - val_loss: 2.4600 - val_y1_output_loss: 0.5097 - val_y2_output_loss: 1.9503 - val_y1_output_root_mean_squared_error: 0.7139 - val_y2_output_root_mean_squared_error: 1.3965\n",
            "Epoch 108/300\n",
            "10/10 [==============================] - 0s 6ms/step - loss: 2.1010 - y1_output_loss: 0.4715 - y2_output_loss: 1.6294 - y1_output_root_mean_squared_error: 0.6867 - y2_output_root_mean_squared_error: 1.2765 - val_loss: 2.4964 - val_y1_output_loss: 0.5354 - val_y2_output_loss: 1.9610 - val_y1_output_root_mean_squared_error: 0.7317 - val_y2_output_root_mean_squared_error: 1.4004\n",
            "Epoch 109/300\n",
            "10/10 [==============================] - 0s 6ms/step - loss: 2.1107 - y1_output_loss: 0.4671 - y2_output_loss: 1.6436 - y1_output_root_mean_squared_error: 0.6835 - y2_output_root_mean_squared_error: 1.2820 - val_loss: 2.4663 - val_y1_output_loss: 0.5177 - val_y2_output_loss: 1.9486 - val_y1_output_root_mean_squared_error: 0.7195 - val_y2_output_root_mean_squared_error: 1.3959\n",
            "Epoch 110/300\n",
            "10/10 [==============================] - 0s 8ms/step - loss: 2.4070 - y1_output_loss: 0.5178 - y2_output_loss: 1.8892 - y1_output_root_mean_squared_error: 0.7196 - y2_output_root_mean_squared_error: 1.3745 - val_loss: 2.4281 - val_y1_output_loss: 0.5138 - val_y2_output_loss: 1.9143 - val_y1_output_root_mean_squared_error: 0.7168 - val_y2_output_root_mean_squared_error: 1.3836\n",
            "Epoch 111/300\n",
            "10/10 [==============================] - 0s 6ms/step - loss: 2.1850 - y1_output_loss: 0.4574 - y2_output_loss: 1.7275 - y1_output_root_mean_squared_error: 0.6763 - y2_output_root_mean_squared_error: 1.3144 - val_loss: 2.8299 - val_y1_output_loss: 0.5824 - val_y2_output_loss: 2.2475 - val_y1_output_root_mean_squared_error: 0.7631 - val_y2_output_root_mean_squared_error: 1.4992\n",
            "Epoch 112/300\n",
            "10/10 [==============================] - 0s 8ms/step - loss: 2.1063 - y1_output_loss: 0.4605 - y2_output_loss: 1.6458 - y1_output_root_mean_squared_error: 0.6786 - y2_output_root_mean_squared_error: 1.2829 - val_loss: 2.5694 - val_y1_output_loss: 0.5102 - val_y2_output_loss: 2.0592 - val_y1_output_root_mean_squared_error: 0.7143 - val_y2_output_root_mean_squared_error: 1.4350\n",
            "Epoch 113/300\n",
            "10/10 [==============================] - 0s 7ms/step - loss: 2.0558 - y1_output_loss: 0.4524 - y2_output_loss: 1.6034 - y1_output_root_mean_squared_error: 0.6726 - y2_output_root_mean_squared_error: 1.2662 - val_loss: 2.4028 - val_y1_output_loss: 0.4828 - val_y2_output_loss: 1.9200 - val_y1_output_root_mean_squared_error: 0.6948 - val_y2_output_root_mean_squared_error: 1.3857\n",
            "Epoch 114/300\n",
            "10/10 [==============================] - 0s 6ms/step - loss: 2.2626 - y1_output_loss: 0.5062 - y2_output_loss: 1.7565 - y1_output_root_mean_squared_error: 0.7115 - y2_output_root_mean_squared_error: 1.3253 - val_loss: 2.7389 - val_y1_output_loss: 0.5561 - val_y2_output_loss: 2.1828 - val_y1_output_root_mean_squared_error: 0.7457 - val_y2_output_root_mean_squared_error: 1.4774\n",
            "Epoch 115/300\n",
            "10/10 [==============================] - 0s 6ms/step - loss: 2.2199 - y1_output_loss: 0.4594 - y2_output_loss: 1.7605 - y1_output_root_mean_squared_error: 0.6778 - y2_output_root_mean_squared_error: 1.3268 - val_loss: 2.4503 - val_y1_output_loss: 0.5169 - val_y2_output_loss: 1.9335 - val_y1_output_root_mean_squared_error: 0.7189 - val_y2_output_root_mean_squared_error: 1.3905\n",
            "Epoch 116/300\n",
            "10/10 [==============================] - 0s 5ms/step - loss: 2.3909 - y1_output_loss: 0.4833 - y2_output_loss: 1.9076 - y1_output_root_mean_squared_error: 0.6952 - y2_output_root_mean_squared_error: 1.3812 - val_loss: 3.3055 - val_y1_output_loss: 0.6206 - val_y2_output_loss: 2.6849 - val_y1_output_root_mean_squared_error: 0.7878 - val_y2_output_root_mean_squared_error: 1.6386\n",
            "Epoch 117/300\n",
            "10/10 [==============================] - 0s 8ms/step - loss: 2.4031 - y1_output_loss: 0.4850 - y2_output_loss: 1.9181 - y1_output_root_mean_squared_error: 0.6964 - y2_output_root_mean_squared_error: 1.3849 - val_loss: 3.4118 - val_y1_output_loss: 0.7906 - val_y2_output_loss: 2.6212 - val_y1_output_root_mean_squared_error: 0.8891 - val_y2_output_root_mean_squared_error: 1.6190\n",
            "Epoch 118/300\n",
            "10/10 [==============================] - 0s 6ms/step - loss: 2.1680 - y1_output_loss: 0.4945 - y2_output_loss: 1.6735 - y1_output_root_mean_squared_error: 0.7032 - y2_output_root_mean_squared_error: 1.2936 - val_loss: 3.0931 - val_y1_output_loss: 0.6725 - val_y2_output_loss: 2.4205 - val_y1_output_root_mean_squared_error: 0.8201 - val_y2_output_root_mean_squared_error: 1.5558\n",
            "Epoch 119/300\n",
            "10/10 [==============================] - 0s 6ms/step - loss: 2.1431 - y1_output_loss: 0.4671 - y2_output_loss: 1.6760 - y1_output_root_mean_squared_error: 0.6835 - y2_output_root_mean_squared_error: 1.2946 - val_loss: 2.4460 - val_y1_output_loss: 0.5092 - val_y2_output_loss: 1.9368 - val_y1_output_root_mean_squared_error: 0.7136 - val_y2_output_root_mean_squared_error: 1.3917\n",
            "Epoch 120/300\n",
            "10/10 [==============================] - 0s 6ms/step - loss: 2.1769 - y1_output_loss: 0.4653 - y2_output_loss: 1.7116 - y1_output_root_mean_squared_error: 0.6821 - y2_output_root_mean_squared_error: 1.3083 - val_loss: 2.4686 - val_y1_output_loss: 0.5106 - val_y2_output_loss: 1.9580 - val_y1_output_root_mean_squared_error: 0.7145 - val_y2_output_root_mean_squared_error: 1.3993\n",
            "Epoch 121/300\n",
            "10/10 [==============================] - 0s 6ms/step - loss: 2.0329 - y1_output_loss: 0.4489 - y2_output_loss: 1.5839 - y1_output_root_mean_squared_error: 0.6700 - y2_output_root_mean_squared_error: 1.2585 - val_loss: 2.4458 - val_y1_output_loss: 0.5125 - val_y2_output_loss: 1.9334 - val_y1_output_root_mean_squared_error: 0.7159 - val_y2_output_root_mean_squared_error: 1.3905\n",
            "Epoch 122/300\n",
            "10/10 [==============================] - 0s 6ms/step - loss: 2.1292 - y1_output_loss: 0.4751 - y2_output_loss: 1.6541 - y1_output_root_mean_squared_error: 0.6892 - y2_output_root_mean_squared_error: 1.2861 - val_loss: 2.4115 - val_y1_output_loss: 0.5132 - val_y2_output_loss: 1.8983 - val_y1_output_root_mean_squared_error: 0.7164 - val_y2_output_root_mean_squared_error: 1.3778\n",
            "Epoch 123/300\n",
            "10/10 [==============================] - 0s 6ms/step - loss: 2.0616 - y1_output_loss: 0.4326 - y2_output_loss: 1.6290 - y1_output_root_mean_squared_error: 0.6577 - y2_output_root_mean_squared_error: 1.2763 - val_loss: 2.5917 - val_y1_output_loss: 0.5195 - val_y2_output_loss: 2.0722 - val_y1_output_root_mean_squared_error: 0.7207 - val_y2_output_root_mean_squared_error: 1.4395\n",
            "Epoch 124/300\n",
            "10/10 [==============================] - 0s 7ms/step - loss: 2.0751 - y1_output_loss: 0.4476 - y2_output_loss: 1.6275 - y1_output_root_mean_squared_error: 0.6690 - y2_output_root_mean_squared_error: 1.2757 - val_loss: 2.3360 - val_y1_output_loss: 0.4843 - val_y2_output_loss: 1.8518 - val_y1_output_root_mean_squared_error: 0.6959 - val_y2_output_root_mean_squared_error: 1.3608\n",
            "Epoch 125/300\n",
            "10/10 [==============================] - 0s 6ms/step - loss: 2.1317 - y1_output_loss: 0.4513 - y2_output_loss: 1.6804 - y1_output_root_mean_squared_error: 0.6718 - y2_output_root_mean_squared_error: 1.2963 - val_loss: 3.0553 - val_y1_output_loss: 0.6352 - val_y2_output_loss: 2.4201 - val_y1_output_root_mean_squared_error: 0.7970 - val_y2_output_root_mean_squared_error: 1.5557\n",
            "Epoch 126/300\n",
            "10/10 [==============================] - 0s 8ms/step - loss: 2.7437 - y1_output_loss: 0.6396 - y2_output_loss: 2.1041 - y1_output_root_mean_squared_error: 0.7997 - y2_output_root_mean_squared_error: 1.4506 - val_loss: 2.3925 - val_y1_output_loss: 0.5116 - val_y2_output_loss: 1.8809 - val_y1_output_root_mean_squared_error: 0.7153 - val_y2_output_root_mean_squared_error: 1.3715\n",
            "Epoch 127/300\n",
            "10/10 [==============================] - 0s 8ms/step - loss: 2.3536 - y1_output_loss: 0.5122 - y2_output_loss: 1.8414 - y1_output_root_mean_squared_error: 0.7157 - y2_output_root_mean_squared_error: 1.3570 - val_loss: 2.4088 - val_y1_output_loss: 0.5168 - val_y2_output_loss: 1.8920 - val_y1_output_root_mean_squared_error: 0.7189 - val_y2_output_root_mean_squared_error: 1.3755\n",
            "Epoch 128/300\n",
            "10/10 [==============================] - 0s 7ms/step - loss: 2.2691 - y1_output_loss: 0.5113 - y2_output_loss: 1.7578 - y1_output_root_mean_squared_error: 0.7150 - y2_output_root_mean_squared_error: 1.3258 - val_loss: 2.5680 - val_y1_output_loss: 0.5754 - val_y2_output_loss: 1.9926 - val_y1_output_root_mean_squared_error: 0.7585 - val_y2_output_root_mean_squared_error: 1.4116\n",
            "Epoch 129/300\n",
            "10/10 [==============================] - 0s 8ms/step - loss: 2.0806 - y1_output_loss: 0.4549 - y2_output_loss: 1.6257 - y1_output_root_mean_squared_error: 0.6745 - y2_output_root_mean_squared_error: 1.2750 - val_loss: 2.6727 - val_y1_output_loss: 0.5993 - val_y2_output_loss: 2.0734 - val_y1_output_root_mean_squared_error: 0.7741 - val_y2_output_root_mean_squared_error: 1.4399\n",
            "Epoch 130/300\n",
            "10/10 [==============================] - 0s 8ms/step - loss: 2.1430 - y1_output_loss: 0.4714 - y2_output_loss: 1.6717 - y1_output_root_mean_squared_error: 0.6866 - y2_output_root_mean_squared_error: 1.2929 - val_loss: 2.3291 - val_y1_output_loss: 0.4658 - val_y2_output_loss: 1.8633 - val_y1_output_root_mean_squared_error: 0.6825 - val_y2_output_root_mean_squared_error: 1.3650\n",
            "Epoch 131/300\n",
            "10/10 [==============================] - 0s 6ms/step - loss: 2.0936 - y1_output_loss: 0.4656 - y2_output_loss: 1.6280 - y1_output_root_mean_squared_error: 0.6824 - y2_output_root_mean_squared_error: 1.2759 - val_loss: 2.4327 - val_y1_output_loss: 0.4876 - val_y2_output_loss: 1.9451 - val_y1_output_root_mean_squared_error: 0.6983 - val_y2_output_root_mean_squared_error: 1.3947\n",
            "Epoch 132/300\n",
            "10/10 [==============================] - 0s 6ms/step - loss: 2.0971 - y1_output_loss: 0.4468 - y2_output_loss: 1.6503 - y1_output_root_mean_squared_error: 0.6685 - y2_output_root_mean_squared_error: 1.2846 - val_loss: 2.9024 - val_y1_output_loss: 0.6163 - val_y2_output_loss: 2.2861 - val_y1_output_root_mean_squared_error: 0.7851 - val_y2_output_root_mean_squared_error: 1.5120\n",
            "Epoch 133/300\n",
            "10/10 [==============================] - 0s 8ms/step - loss: 2.0704 - y1_output_loss: 0.4881 - y2_output_loss: 1.5823 - y1_output_root_mean_squared_error: 0.6987 - y2_output_root_mean_squared_error: 1.2579 - val_loss: 2.4892 - val_y1_output_loss: 0.5149 - val_y2_output_loss: 1.9743 - val_y1_output_root_mean_squared_error: 0.7176 - val_y2_output_root_mean_squared_error: 1.4051\n",
            "Epoch 134/300\n",
            "10/10 [==============================] - 0s 6ms/step - loss: 2.1724 - y1_output_loss: 0.4691 - y2_output_loss: 1.7033 - y1_output_root_mean_squared_error: 0.6849 - y2_output_root_mean_squared_error: 1.3051 - val_loss: 2.3407 - val_y1_output_loss: 0.5133 - val_y2_output_loss: 1.8275 - val_y1_output_root_mean_squared_error: 0.7164 - val_y2_output_root_mean_squared_error: 1.3518\n",
            "Epoch 135/300\n",
            "10/10 [==============================] - 0s 6ms/step - loss: 2.4165 - y1_output_loss: 0.5159 - y2_output_loss: 1.9006 - y1_output_root_mean_squared_error: 0.7183 - y2_output_root_mean_squared_error: 1.3786 - val_loss: 2.7202 - val_y1_output_loss: 0.4889 - val_y2_output_loss: 2.2313 - val_y1_output_root_mean_squared_error: 0.6992 - val_y2_output_root_mean_squared_error: 1.4937\n",
            "Epoch 136/300\n",
            "10/10 [==============================] - 0s 6ms/step - loss: 2.0411 - y1_output_loss: 0.4434 - y2_output_loss: 1.5977 - y1_output_root_mean_squared_error: 0.6659 - y2_output_root_mean_squared_error: 1.2640 - val_loss: 2.7585 - val_y1_output_loss: 0.4686 - val_y2_output_loss: 2.2900 - val_y1_output_root_mean_squared_error: 0.6845 - val_y2_output_root_mean_squared_error: 1.5133\n",
            "Epoch 137/300\n",
            "10/10 [==============================] - 0s 8ms/step - loss: 2.0482 - y1_output_loss: 0.4671 - y2_output_loss: 1.5811 - y1_output_root_mean_squared_error: 0.6835 - y2_output_root_mean_squared_error: 1.2574 - val_loss: 2.4834 - val_y1_output_loss: 0.4904 - val_y2_output_loss: 1.9930 - val_y1_output_root_mean_squared_error: 0.7003 - val_y2_output_root_mean_squared_error: 1.4117\n",
            "Epoch 138/300\n",
            "10/10 [==============================] - 0s 7ms/step - loss: 1.9661 - y1_output_loss: 0.4450 - y2_output_loss: 1.5211 - y1_output_root_mean_squared_error: 0.6671 - y2_output_root_mean_squared_error: 1.2333 - val_loss: 2.2500 - val_y1_output_loss: 0.4547 - val_y2_output_loss: 1.7953 - val_y1_output_root_mean_squared_error: 0.6743 - val_y2_output_root_mean_squared_error: 1.3399\n",
            "Epoch 139/300\n",
            "10/10 [==============================] - 0s 7ms/step - loss: 1.9942 - y1_output_loss: 0.4551 - y2_output_loss: 1.5391 - y1_output_root_mean_squared_error: 0.6746 - y2_output_root_mean_squared_error: 1.2406 - val_loss: 2.2948 - val_y1_output_loss: 0.4674 - val_y2_output_loss: 1.8274 - val_y1_output_root_mean_squared_error: 0.6836 - val_y2_output_root_mean_squared_error: 1.3518\n",
            "Epoch 140/300\n",
            "10/10 [==============================] - 0s 8ms/step - loss: 2.1166 - y1_output_loss: 0.4430 - y2_output_loss: 1.6736 - y1_output_root_mean_squared_error: 0.6656 - y2_output_root_mean_squared_error: 1.2937 - val_loss: 2.2852 - val_y1_output_loss: 0.4863 - val_y2_output_loss: 1.7989 - val_y1_output_root_mean_squared_error: 0.6973 - val_y2_output_root_mean_squared_error: 1.3412\n",
            "Epoch 141/300\n",
            "10/10 [==============================] - 0s 8ms/step - loss: 2.0823 - y1_output_loss: 0.4507 - y2_output_loss: 1.6315 - y1_output_root_mean_squared_error: 0.6714 - y2_output_root_mean_squared_error: 1.2773 - val_loss: 2.2800 - val_y1_output_loss: 0.4818 - val_y2_output_loss: 1.7982 - val_y1_output_root_mean_squared_error: 0.6941 - val_y2_output_root_mean_squared_error: 1.3410\n",
            "Epoch 142/300\n",
            "10/10 [==============================] - 0s 8ms/step - loss: 2.2155 - y1_output_loss: 0.4641 - y2_output_loss: 1.7513 - y1_output_root_mean_squared_error: 0.6813 - y2_output_root_mean_squared_error: 1.3234 - val_loss: 4.3372 - val_y1_output_loss: 1.3985 - val_y2_output_loss: 2.9387 - val_y1_output_root_mean_squared_error: 1.1826 - val_y2_output_root_mean_squared_error: 1.7143\n",
            "Epoch 143/300\n",
            "10/10 [==============================] - 0s 6ms/step - loss: 2.3976 - y1_output_loss: 0.5711 - y2_output_loss: 1.8264 - y1_output_root_mean_squared_error: 0.7557 - y2_output_root_mean_squared_error: 1.3514 - val_loss: 2.2762 - val_y1_output_loss: 0.4938 - val_y2_output_loss: 1.7824 - val_y1_output_root_mean_squared_error: 0.7027 - val_y2_output_root_mean_squared_error: 1.3351\n",
            "Epoch 144/300\n",
            "10/10 [==============================] - 0s 6ms/step - loss: 1.9130 - y1_output_loss: 0.4271 - y2_output_loss: 1.4859 - y1_output_root_mean_squared_error: 0.6535 - y2_output_root_mean_squared_error: 1.2190 - val_loss: 2.2350 - val_y1_output_loss: 0.4593 - val_y2_output_loss: 1.7757 - val_y1_output_root_mean_squared_error: 0.6777 - val_y2_output_root_mean_squared_error: 1.3326\n",
            "Epoch 145/300\n",
            "10/10 [==============================] - 0s 7ms/step - loss: 2.1151 - y1_output_loss: 0.4929 - y2_output_loss: 1.6222 - y1_output_root_mean_squared_error: 0.7021 - y2_output_root_mean_squared_error: 1.2737 - val_loss: 2.3768 - val_y1_output_loss: 0.5115 - val_y2_output_loss: 1.8653 - val_y1_output_root_mean_squared_error: 0.7152 - val_y2_output_root_mean_squared_error: 1.3658\n",
            "Epoch 146/300\n",
            "10/10 [==============================] - 0s 6ms/step - loss: 2.3251 - y1_output_loss: 0.4821 - y2_output_loss: 1.8430 - y1_output_root_mean_squared_error: 0.6943 - y2_output_root_mean_squared_error: 1.3576 - val_loss: 2.9112 - val_y1_output_loss: 0.5514 - val_y2_output_loss: 2.3598 - val_y1_output_root_mean_squared_error: 0.7425 - val_y2_output_root_mean_squared_error: 1.5362\n",
            "Epoch 147/300\n",
            "10/10 [==============================] - 0s 7ms/step - loss: 1.9722 - y1_output_loss: 0.4232 - y2_output_loss: 1.5490 - y1_output_root_mean_squared_error: 0.6505 - y2_output_root_mean_squared_error: 1.2446 - val_loss: 2.2588 - val_y1_output_loss: 0.4924 - val_y2_output_loss: 1.7664 - val_y1_output_root_mean_squared_error: 0.7017 - val_y2_output_root_mean_squared_error: 1.3291\n",
            "Epoch 148/300\n",
            "10/10 [==============================] - 0s 7ms/step - loss: 2.0088 - y1_output_loss: 0.4391 - y2_output_loss: 1.5698 - y1_output_root_mean_squared_error: 0.6626 - y2_output_root_mean_squared_error: 1.2529 - val_loss: 3.1932 - val_y1_output_loss: 0.6765 - val_y2_output_loss: 2.5167 - val_y1_output_root_mean_squared_error: 0.8225 - val_y2_output_root_mean_squared_error: 1.5864\n",
            "Epoch 149/300\n",
            "10/10 [==============================] - 0s 6ms/step - loss: 2.4428 - y1_output_loss: 0.5343 - y2_output_loss: 1.9086 - y1_output_root_mean_squared_error: 0.7309 - y2_output_root_mean_squared_error: 1.3815 - val_loss: 2.3166 - val_y1_output_loss: 0.4547 - val_y2_output_loss: 1.8619 - val_y1_output_root_mean_squared_error: 0.6743 - val_y2_output_root_mean_squared_error: 1.3645\n",
            "Epoch 150/300\n",
            "10/10 [==============================] - 0s 7ms/step - loss: 1.9247 - y1_output_loss: 0.4183 - y2_output_loss: 1.5065 - y1_output_root_mean_squared_error: 0.6468 - y2_output_root_mean_squared_error: 1.2274 - val_loss: 3.6795 - val_y1_output_loss: 0.7004 - val_y2_output_loss: 2.9792 - val_y1_output_root_mean_squared_error: 0.8369 - val_y2_output_root_mean_squared_error: 1.7260\n",
            "Epoch 151/300\n",
            "10/10 [==============================] - 0s 6ms/step - loss: 2.6307 - y1_output_loss: 0.5684 - y2_output_loss: 2.0622 - y1_output_root_mean_squared_error: 0.7539 - y2_output_root_mean_squared_error: 1.4361 - val_loss: 2.2845 - val_y1_output_loss: 0.4962 - val_y2_output_loss: 1.7883 - val_y1_output_root_mean_squared_error: 0.7044 - val_y2_output_root_mean_squared_error: 1.3373\n",
            "Epoch 152/300\n",
            "10/10 [==============================] - 0s 6ms/step - loss: 2.0541 - y1_output_loss: 0.4314 - y2_output_loss: 1.6227 - y1_output_root_mean_squared_error: 0.6568 - y2_output_root_mean_squared_error: 1.2738 - val_loss: 2.9397 - val_y1_output_loss: 0.5750 - val_y2_output_loss: 2.3647 - val_y1_output_root_mean_squared_error: 0.7583 - val_y2_output_root_mean_squared_error: 1.5378\n",
            "Epoch 153/300\n",
            "10/10 [==============================] - 0s 6ms/step - loss: 2.0758 - y1_output_loss: 0.4685 - y2_output_loss: 1.6073 - y1_output_root_mean_squared_error: 0.6845 - y2_output_root_mean_squared_error: 1.2678 - val_loss: 2.4439 - val_y1_output_loss: 0.5028 - val_y2_output_loss: 1.9411 - val_y1_output_root_mean_squared_error: 0.7091 - val_y2_output_root_mean_squared_error: 1.3932\n",
            "Epoch 154/300\n",
            "10/10 [==============================] - 0s 8ms/step - loss: 2.1025 - y1_output_loss: 0.4770 - y2_output_loss: 1.6255 - y1_output_root_mean_squared_error: 0.6906 - y2_output_root_mean_squared_error: 1.2750 - val_loss: 2.2150 - val_y1_output_loss: 0.4636 - val_y2_output_loss: 1.7514 - val_y1_output_root_mean_squared_error: 0.6809 - val_y2_output_root_mean_squared_error: 1.3234\n",
            "Epoch 155/300\n",
            "10/10 [==============================] - 0s 6ms/step - loss: 1.8970 - y1_output_loss: 0.4124 - y2_output_loss: 1.4846 - y1_output_root_mean_squared_error: 0.6422 - y2_output_root_mean_squared_error: 1.2185 - val_loss: 2.3230 - val_y1_output_loss: 0.4768 - val_y2_output_loss: 1.8462 - val_y1_output_root_mean_squared_error: 0.6905 - val_y2_output_root_mean_squared_error: 1.3587\n",
            "Epoch 156/300\n",
            "10/10 [==============================] - 0s 6ms/step - loss: 2.2548 - y1_output_loss: 0.4907 - y2_output_loss: 1.7641 - y1_output_root_mean_squared_error: 0.7005 - y2_output_root_mean_squared_error: 1.3282 - val_loss: 2.1986 - val_y1_output_loss: 0.4651 - val_y2_output_loss: 1.7334 - val_y1_output_root_mean_squared_error: 0.6820 - val_y2_output_root_mean_squared_error: 1.3166\n",
            "Epoch 157/300\n",
            "10/10 [==============================] - 0s 6ms/step - loss: 1.9560 - y1_output_loss: 0.4208 - y2_output_loss: 1.5352 - y1_output_root_mean_squared_error: 0.6487 - y2_output_root_mean_squared_error: 1.2390 - val_loss: 2.2175 - val_y1_output_loss: 0.4503 - val_y2_output_loss: 1.7672 - val_y1_output_root_mean_squared_error: 0.6711 - val_y2_output_root_mean_squared_error: 1.3293\n",
            "Epoch 158/300\n",
            "10/10 [==============================] - 0s 6ms/step - loss: 1.8603 - y1_output_loss: 0.4242 - y2_output_loss: 1.4361 - y1_output_root_mean_squared_error: 0.6513 - y2_output_root_mean_squared_error: 1.1984 - val_loss: 2.2330 - val_y1_output_loss: 0.4364 - val_y2_output_loss: 1.7966 - val_y1_output_root_mean_squared_error: 0.6606 - val_y2_output_root_mean_squared_error: 1.3404\n",
            "Epoch 159/300\n",
            "10/10 [==============================] - 0s 6ms/step - loss: 1.8252 - y1_output_loss: 0.4072 - y2_output_loss: 1.4179 - y1_output_root_mean_squared_error: 0.6382 - y2_output_root_mean_squared_error: 1.1908 - val_loss: 3.1756 - val_y1_output_loss: 0.6035 - val_y2_output_loss: 2.5721 - val_y1_output_root_mean_squared_error: 0.7768 - val_y2_output_root_mean_squared_error: 1.6038\n",
            "Epoch 160/300\n",
            "10/10 [==============================] - 0s 8ms/step - loss: 2.0661 - y1_output_loss: 0.4771 - y2_output_loss: 1.5890 - y1_output_root_mean_squared_error: 0.6907 - y2_output_root_mean_squared_error: 1.2606 - val_loss: 3.6556 - val_y1_output_loss: 0.6049 - val_y2_output_loss: 3.0508 - val_y1_output_root_mean_squared_error: 0.7777 - val_y2_output_root_mean_squared_error: 1.7466\n",
            "Epoch 161/300\n",
            "10/10 [==============================] - 0s 6ms/step - loss: 2.1170 - y1_output_loss: 0.4726 - y2_output_loss: 1.6444 - y1_output_root_mean_squared_error: 0.6874 - y2_output_root_mean_squared_error: 1.2824 - val_loss: 2.7817 - val_y1_output_loss: 0.5929 - val_y2_output_loss: 2.1889 - val_y1_output_root_mean_squared_error: 0.7700 - val_y2_output_root_mean_squared_error: 1.4795\n",
            "Epoch 162/300\n",
            "10/10 [==============================] - 0s 6ms/step - loss: 2.1274 - y1_output_loss: 0.4675 - y2_output_loss: 1.6600 - y1_output_root_mean_squared_error: 0.6837 - y2_output_root_mean_squared_error: 1.2884 - val_loss: 2.1558 - val_y1_output_loss: 0.4338 - val_y2_output_loss: 1.7220 - val_y1_output_root_mean_squared_error: 0.6586 - val_y2_output_root_mean_squared_error: 1.3122\n",
            "Epoch 163/300\n",
            "10/10 [==============================] - 0s 7ms/step - loss: 2.0663 - y1_output_loss: 0.4541 - y2_output_loss: 1.6122 - y1_output_root_mean_squared_error: 0.6738 - y2_output_root_mean_squared_error: 1.2697 - val_loss: 3.9892 - val_y1_output_loss: 0.8686 - val_y2_output_loss: 3.1205 - val_y1_output_root_mean_squared_error: 0.9320 - val_y2_output_root_mean_squared_error: 1.7665\n",
            "Epoch 164/300\n",
            "10/10 [==============================] - 0s 6ms/step - loss: 2.4587 - y1_output_loss: 0.5722 - y2_output_loss: 1.8864 - y1_output_root_mean_squared_error: 0.7565 - y2_output_root_mean_squared_error: 1.3735 - val_loss: 2.1913 - val_y1_output_loss: 0.4263 - val_y2_output_loss: 1.7650 - val_y1_output_root_mean_squared_error: 0.6529 - val_y2_output_root_mean_squared_error: 1.3285\n",
            "Epoch 165/300\n",
            "10/10 [==============================] - 0s 7ms/step - loss: 1.8731 - y1_output_loss: 0.4130 - y2_output_loss: 1.4601 - y1_output_root_mean_squared_error: 0.6427 - y2_output_root_mean_squared_error: 1.2083 - val_loss: 2.4485 - val_y1_output_loss: 0.4608 - val_y2_output_loss: 1.9878 - val_y1_output_root_mean_squared_error: 0.6788 - val_y2_output_root_mean_squared_error: 1.4099\n",
            "Epoch 166/300\n",
            "10/10 [==============================] - 0s 8ms/step - loss: 2.2655 - y1_output_loss: 0.4683 - y2_output_loss: 1.7972 - y1_output_root_mean_squared_error: 0.6843 - y2_output_root_mean_squared_error: 1.3406 - val_loss: 2.4320 - val_y1_output_loss: 0.4909 - val_y2_output_loss: 1.9411 - val_y1_output_root_mean_squared_error: 0.7006 - val_y2_output_root_mean_squared_error: 1.3932\n",
            "Epoch 167/300\n",
            "10/10 [==============================] - 0s 7ms/step - loss: 1.8233 - y1_output_loss: 0.4133 - y2_output_loss: 1.4100 - y1_output_root_mean_squared_error: 0.6429 - y2_output_root_mean_squared_error: 1.1874 - val_loss: 2.1533 - val_y1_output_loss: 0.4273 - val_y2_output_loss: 1.7261 - val_y1_output_root_mean_squared_error: 0.6537 - val_y2_output_root_mean_squared_error: 1.3138\n",
            "Epoch 168/300\n",
            "10/10 [==============================] - 0s 6ms/step - loss: 1.8319 - y1_output_loss: 0.3993 - y2_output_loss: 1.4326 - y1_output_root_mean_squared_error: 0.6319 - y2_output_root_mean_squared_error: 1.1969 - val_loss: 2.3267 - val_y1_output_loss: 0.4940 - val_y2_output_loss: 1.8327 - val_y1_output_root_mean_squared_error: 0.7029 - val_y2_output_root_mean_squared_error: 1.3538\n",
            "Epoch 169/300\n",
            "10/10 [==============================] - 0s 5ms/step - loss: 2.3724 - y1_output_loss: 0.5240 - y2_output_loss: 1.8483 - y1_output_root_mean_squared_error: 0.7239 - y2_output_root_mean_squared_error: 1.3595 - val_loss: 3.2187 - val_y1_output_loss: 0.7795 - val_y2_output_loss: 2.4392 - val_y1_output_root_mean_squared_error: 0.8829 - val_y2_output_root_mean_squared_error: 1.5618\n",
            "Epoch 170/300\n",
            "10/10 [==============================] - 0s 7ms/step - loss: 2.1786 - y1_output_loss: 0.4531 - y2_output_loss: 1.7255 - y1_output_root_mean_squared_error: 0.6731 - y2_output_root_mean_squared_error: 1.3136 - val_loss: 2.5491 - val_y1_output_loss: 0.5797 - val_y2_output_loss: 1.9694 - val_y1_output_root_mean_squared_error: 0.7614 - val_y2_output_root_mean_squared_error: 1.4034\n",
            "Epoch 171/300\n",
            "10/10 [==============================] - 0s 8ms/step - loss: 2.5883 - y1_output_loss: 0.5967 - y2_output_loss: 1.9915 - y1_output_root_mean_squared_error: 0.7725 - y2_output_root_mean_squared_error: 1.4112 - val_loss: 3.2446 - val_y1_output_loss: 0.7929 - val_y2_output_loss: 2.4517 - val_y1_output_root_mean_squared_error: 0.8905 - val_y2_output_root_mean_squared_error: 1.5658\n",
            "Epoch 172/300\n",
            "10/10 [==============================] - 0s 7ms/step - loss: 2.0763 - y1_output_loss: 0.5501 - y2_output_loss: 1.5262 - y1_output_root_mean_squared_error: 0.7417 - y2_output_root_mean_squared_error: 1.2354 - val_loss: 2.2932 - val_y1_output_loss: 0.4992 - val_y2_output_loss: 1.7940 - val_y1_output_root_mean_squared_error: 0.7065 - val_y2_output_root_mean_squared_error: 1.3394\n",
            "Epoch 173/300\n",
            "10/10 [==============================] - 0s 6ms/step - loss: 2.4994 - y1_output_loss: 0.5400 - y2_output_loss: 1.9594 - y1_output_root_mean_squared_error: 0.7348 - y2_output_root_mean_squared_error: 1.3998 - val_loss: 4.7101 - val_y1_output_loss: 1.1205 - val_y2_output_loss: 3.5896 - val_y1_output_root_mean_squared_error: 1.0585 - val_y2_output_root_mean_squared_error: 1.8946\n",
            "Epoch 174/300\n",
            "10/10 [==============================] - 0s 8ms/step - loss: 3.4461 - y1_output_loss: 0.7708 - y2_output_loss: 2.6753 - y1_output_root_mean_squared_error: 0.8779 - y2_output_root_mean_squared_error: 1.6356 - val_loss: 2.7314 - val_y1_output_loss: 0.5316 - val_y2_output_loss: 2.1998 - val_y1_output_root_mean_squared_error: 0.7291 - val_y2_output_root_mean_squared_error: 1.4832\n",
            "Epoch 175/300\n",
            "10/10 [==============================] - 0s 6ms/step - loss: 1.9953 - y1_output_loss: 0.4498 - y2_output_loss: 1.5455 - y1_output_root_mean_squared_error: 0.6707 - y2_output_root_mean_squared_error: 1.2432 - val_loss: 2.2057 - val_y1_output_loss: 0.4359 - val_y2_output_loss: 1.7698 - val_y1_output_root_mean_squared_error: 0.6602 - val_y2_output_root_mean_squared_error: 1.3303\n",
            "Epoch 176/300\n",
            "10/10 [==============================] - 0s 6ms/step - loss: 2.0628 - y1_output_loss: 0.4316 - y2_output_loss: 1.6312 - y1_output_root_mean_squared_error: 0.6570 - y2_output_root_mean_squared_error: 1.2772 - val_loss: 2.8836 - val_y1_output_loss: 0.5966 - val_y2_output_loss: 2.2870 - val_y1_output_root_mean_squared_error: 0.7724 - val_y2_output_root_mean_squared_error: 1.5123\n",
            "Epoch 177/300\n",
            "10/10 [==============================] - 0s 8ms/step - loss: 1.8490 - y1_output_loss: 0.4201 - y2_output_loss: 1.4288 - y1_output_root_mean_squared_error: 0.6482 - y2_output_root_mean_squared_error: 1.1953 - val_loss: 2.5402 - val_y1_output_loss: 0.4521 - val_y2_output_loss: 2.0881 - val_y1_output_root_mean_squared_error: 0.6724 - val_y2_output_root_mean_squared_error: 1.4450\n",
            "Epoch 178/300\n",
            "10/10 [==============================] - 0s 8ms/step - loss: 1.9780 - y1_output_loss: 0.4168 - y2_output_loss: 1.5613 - y1_output_root_mean_squared_error: 0.6456 - y2_output_root_mean_squared_error: 1.2495 - val_loss: 3.1705 - val_y1_output_loss: 0.7275 - val_y2_output_loss: 2.4429 - val_y1_output_root_mean_squared_error: 0.8530 - val_y2_output_root_mean_squared_error: 1.5630\n",
            "Epoch 179/300\n",
            "10/10 [==============================] - 0s 8ms/step - loss: 2.0556 - y1_output_loss: 0.4603 - y2_output_loss: 1.5953 - y1_output_root_mean_squared_error: 0.6784 - y2_output_root_mean_squared_error: 1.2631 - val_loss: 2.1156 - val_y1_output_loss: 0.4462 - val_y2_output_loss: 1.6693 - val_y1_output_root_mean_squared_error: 0.6680 - val_y2_output_root_mean_squared_error: 1.2920\n",
            "Epoch 180/300\n",
            "10/10 [==============================] - 0s 9ms/step - loss: 1.8901 - y1_output_loss: 0.4262 - y2_output_loss: 1.4639 - y1_output_root_mean_squared_error: 0.6528 - y2_output_root_mean_squared_error: 1.2099 - val_loss: 2.2084 - val_y1_output_loss: 0.4614 - val_y2_output_loss: 1.7470 - val_y1_output_root_mean_squared_error: 0.6793 - val_y2_output_root_mean_squared_error: 1.3217\n",
            "Epoch 181/300\n",
            "10/10 [==============================] - 0s 8ms/step - loss: 1.7879 - y1_output_loss: 0.4220 - y2_output_loss: 1.3659 - y1_output_root_mean_squared_error: 0.6496 - y2_output_root_mean_squared_error: 1.1687 - val_loss: 2.1669 - val_y1_output_loss: 0.4944 - val_y2_output_loss: 1.6725 - val_y1_output_root_mean_squared_error: 0.7031 - val_y2_output_root_mean_squared_error: 1.2933\n",
            "Epoch 182/300\n",
            "10/10 [==============================] - 0s 6ms/step - loss: 1.7653 - y1_output_loss: 0.4070 - y2_output_loss: 1.3582 - y1_output_root_mean_squared_error: 0.6380 - y2_output_root_mean_squared_error: 1.1654 - val_loss: 2.0670 - val_y1_output_loss: 0.4150 - val_y2_output_loss: 1.6520 - val_y1_output_root_mean_squared_error: 0.6442 - val_y2_output_root_mean_squared_error: 1.2853\n",
            "Epoch 183/300\n",
            "10/10 [==============================] - 0s 9ms/step - loss: 1.8593 - y1_output_loss: 0.4003 - y2_output_loss: 1.4589 - y1_output_root_mean_squared_error: 0.6327 - y2_output_root_mean_squared_error: 1.2079 - val_loss: 2.5755 - val_y1_output_loss: 0.4608 - val_y2_output_loss: 2.1148 - val_y1_output_root_mean_squared_error: 0.6788 - val_y2_output_root_mean_squared_error: 1.4542\n",
            "Epoch 184/300\n",
            "10/10 [==============================] - 0s 9ms/step - loss: 2.5088 - y1_output_loss: 0.5170 - y2_output_loss: 1.9918 - y1_output_root_mean_squared_error: 0.7190 - y2_output_root_mean_squared_error: 1.4113 - val_loss: 3.2442 - val_y1_output_loss: 0.9158 - val_y2_output_loss: 2.3284 - val_y1_output_root_mean_squared_error: 0.9570 - val_y2_output_root_mean_squared_error: 1.5259\n",
            "Epoch 185/300\n",
            "10/10 [==============================] - 0s 7ms/step - loss: 1.8230 - y1_output_loss: 0.4293 - y2_output_loss: 1.3938 - y1_output_root_mean_squared_error: 0.6552 - y2_output_root_mean_squared_error: 1.1806 - val_loss: 2.0969 - val_y1_output_loss: 0.4441 - val_y2_output_loss: 1.6529 - val_y1_output_root_mean_squared_error: 0.6664 - val_y2_output_root_mean_squared_error: 1.2856\n",
            "Epoch 186/300\n",
            "10/10 [==============================] - 0s 6ms/step - loss: 2.1432 - y1_output_loss: 0.4814 - y2_output_loss: 1.6618 - y1_output_root_mean_squared_error: 0.6938 - y2_output_root_mean_squared_error: 1.2891 - val_loss: 2.1971 - val_y1_output_loss: 0.4688 - val_y2_output_loss: 1.7283 - val_y1_output_root_mean_squared_error: 0.6847 - val_y2_output_root_mean_squared_error: 1.3146\n",
            "Epoch 187/300\n",
            "10/10 [==============================] - 0s 6ms/step - loss: 1.8092 - y1_output_loss: 0.4265 - y2_output_loss: 1.3827 - y1_output_root_mean_squared_error: 0.6530 - y2_output_root_mean_squared_error: 1.1759 - val_loss: 2.4909 - val_y1_output_loss: 0.5870 - val_y2_output_loss: 1.9039 - val_y1_output_root_mean_squared_error: 0.7661 - val_y2_output_root_mean_squared_error: 1.3798\n",
            "Epoch 188/300\n",
            "10/10 [==============================] - 0s 6ms/step - loss: 1.8034 - y1_output_loss: 0.4078 - y2_output_loss: 1.3957 - y1_output_root_mean_squared_error: 0.6386 - y2_output_root_mean_squared_error: 1.1814 - val_loss: 2.1993 - val_y1_output_loss: 0.4627 - val_y2_output_loss: 1.7366 - val_y1_output_root_mean_squared_error: 0.6802 - val_y2_output_root_mean_squared_error: 1.3178\n",
            "Epoch 189/300\n",
            "10/10 [==============================] - 0s 6ms/step - loss: 1.7575 - y1_output_loss: 0.3822 - y2_output_loss: 1.3753 - y1_output_root_mean_squared_error: 0.6183 - y2_output_root_mean_squared_error: 1.1727 - val_loss: 2.2408 - val_y1_output_loss: 0.4564 - val_y2_output_loss: 1.7844 - val_y1_output_root_mean_squared_error: 0.6756 - val_y2_output_root_mean_squared_error: 1.3358\n",
            "Epoch 190/300\n",
            "10/10 [==============================] - 0s 7ms/step - loss: 1.7267 - y1_output_loss: 0.3849 - y2_output_loss: 1.3418 - y1_output_root_mean_squared_error: 0.6204 - y2_output_root_mean_squared_error: 1.1583 - val_loss: 2.1501 - val_y1_output_loss: 0.4256 - val_y2_output_loss: 1.7246 - val_y1_output_root_mean_squared_error: 0.6524 - val_y2_output_root_mean_squared_error: 1.3132\n",
            "Epoch 191/300\n",
            "10/10 [==============================] - 0s 6ms/step - loss: 1.7921 - y1_output_loss: 0.3899 - y2_output_loss: 1.4022 - y1_output_root_mean_squared_error: 0.6244 - y2_output_root_mean_squared_error: 1.1842 - val_loss: 2.0845 - val_y1_output_loss: 0.4375 - val_y2_output_loss: 1.6470 - val_y1_output_root_mean_squared_error: 0.6614 - val_y2_output_root_mean_squared_error: 1.2834\n",
            "Epoch 192/300\n",
            "10/10 [==============================] - 0s 6ms/step - loss: 1.7667 - y1_output_loss: 0.4066 - y2_output_loss: 1.3602 - y1_output_root_mean_squared_error: 0.6376 - y2_output_root_mean_squared_error: 1.1663 - val_loss: 2.0576 - val_y1_output_loss: 0.4222 - val_y2_output_loss: 1.6354 - val_y1_output_root_mean_squared_error: 0.6498 - val_y2_output_root_mean_squared_error: 1.2788\n",
            "Epoch 193/300\n",
            "10/10 [==============================] - 0s 7ms/step - loss: 1.7401 - y1_output_loss: 0.3844 - y2_output_loss: 1.3556 - y1_output_root_mean_squared_error: 0.6200 - y2_output_root_mean_squared_error: 1.1643 - val_loss: 2.9905 - val_y1_output_loss: 0.5315 - val_y2_output_loss: 2.4591 - val_y1_output_root_mean_squared_error: 0.7290 - val_y2_output_root_mean_squared_error: 1.5681\n",
            "Epoch 194/300\n",
            "10/10 [==============================] - 0s 6ms/step - loss: 2.3960 - y1_output_loss: 0.5436 - y2_output_loss: 1.8524 - y1_output_root_mean_squared_error: 0.7373 - y2_output_root_mean_squared_error: 1.3610 - val_loss: 2.5681 - val_y1_output_loss: 0.4766 - val_y2_output_loss: 2.0915 - val_y1_output_root_mean_squared_error: 0.6903 - val_y2_output_root_mean_squared_error: 1.4462\n",
            "Epoch 195/300\n",
            "10/10 [==============================] - 0s 6ms/step - loss: 2.0273 - y1_output_loss: 0.4370 - y2_output_loss: 1.5903 - y1_output_root_mean_squared_error: 0.6610 - y2_output_root_mean_squared_error: 1.2611 - val_loss: 2.0950 - val_y1_output_loss: 0.4370 - val_y2_output_loss: 1.6580 - val_y1_output_root_mean_squared_error: 0.6610 - val_y2_output_root_mean_squared_error: 1.2876\n",
            "Epoch 196/300\n",
            "10/10 [==============================] - 0s 8ms/step - loss: 1.8417 - y1_output_loss: 0.4253 - y2_output_loss: 1.4164 - y1_output_root_mean_squared_error: 0.6521 - y2_output_root_mean_squared_error: 1.1901 - val_loss: 2.7880 - val_y1_output_loss: 0.5236 - val_y2_output_loss: 2.2644 - val_y1_output_root_mean_squared_error: 0.7236 - val_y2_output_root_mean_squared_error: 1.5048\n",
            "Epoch 197/300\n",
            "10/10 [==============================] - 0s 6ms/step - loss: 2.0198 - y1_output_loss: 0.4705 - y2_output_loss: 1.5493 - y1_output_root_mean_squared_error: 0.6859 - y2_output_root_mean_squared_error: 1.2447 - val_loss: 2.0925 - val_y1_output_loss: 0.4429 - val_y2_output_loss: 1.6495 - val_y1_output_root_mean_squared_error: 0.6655 - val_y2_output_root_mean_squared_error: 1.2843\n",
            "Epoch 198/300\n",
            "10/10 [==============================] - 0s 6ms/step - loss: 1.7365 - y1_output_loss: 0.3951 - y2_output_loss: 1.3415 - y1_output_root_mean_squared_error: 0.6285 - y2_output_root_mean_squared_error: 1.1582 - val_loss: 3.1750 - val_y1_output_loss: 0.6036 - val_y2_output_loss: 2.5715 - val_y1_output_root_mean_squared_error: 0.7769 - val_y2_output_root_mean_squared_error: 1.6036\n",
            "Epoch 199/300\n",
            "10/10 [==============================] - 0s 7ms/step - loss: 2.0998 - y1_output_loss: 0.4547 - y2_output_loss: 1.6451 - y1_output_root_mean_squared_error: 0.6743 - y2_output_root_mean_squared_error: 1.2826 - val_loss: 2.3663 - val_y1_output_loss: 0.4697 - val_y2_output_loss: 1.8966 - val_y1_output_root_mean_squared_error: 0.6854 - val_y2_output_root_mean_squared_error: 1.3772\n",
            "Epoch 200/300\n",
            "10/10 [==============================] - 0s 6ms/step - loss: 2.6584 - y1_output_loss: 0.5845 - y2_output_loss: 2.0739 - y1_output_root_mean_squared_error: 0.7645 - y2_output_root_mean_squared_error: 1.4401 - val_loss: 2.2623 - val_y1_output_loss: 0.5174 - val_y2_output_loss: 1.7450 - val_y1_output_root_mean_squared_error: 0.7193 - val_y2_output_root_mean_squared_error: 1.3210\n",
            "Epoch 201/300\n",
            "10/10 [==============================] - 0s 8ms/step - loss: 1.7097 - y1_output_loss: 0.3921 - y2_output_loss: 1.3175 - y1_output_root_mean_squared_error: 0.6262 - y2_output_root_mean_squared_error: 1.1478 - val_loss: 2.0057 - val_y1_output_loss: 0.4230 - val_y2_output_loss: 1.5827 - val_y1_output_root_mean_squared_error: 0.6504 - val_y2_output_root_mean_squared_error: 1.2581\n",
            "Epoch 202/300\n",
            "10/10 [==============================] - 0s 6ms/step - loss: 1.7273 - y1_output_loss: 0.4014 - y2_output_loss: 1.3259 - y1_output_root_mean_squared_error: 0.6336 - y2_output_root_mean_squared_error: 1.1515 - val_loss: 2.2724 - val_y1_output_loss: 0.5423 - val_y2_output_loss: 1.7301 - val_y1_output_root_mean_squared_error: 0.7364 - val_y2_output_root_mean_squared_error: 1.3153\n",
            "Epoch 203/300\n",
            "10/10 [==============================] - 0s 8ms/step - loss: 2.4915 - y1_output_loss: 0.5079 - y2_output_loss: 1.9837 - y1_output_root_mean_squared_error: 0.7127 - y2_output_root_mean_squared_error: 1.4084 - val_loss: 2.3246 - val_y1_output_loss: 0.5800 - val_y2_output_loss: 1.7446 - val_y1_output_root_mean_squared_error: 0.7616 - val_y2_output_root_mean_squared_error: 1.3208\n",
            "Epoch 204/300\n",
            "10/10 [==============================] - 0s 6ms/step - loss: 1.8322 - y1_output_loss: 0.3902 - y2_output_loss: 1.4420 - y1_output_root_mean_squared_error: 0.6246 - y2_output_root_mean_squared_error: 1.2008 - val_loss: 2.7650 - val_y1_output_loss: 0.5518 - val_y2_output_loss: 2.2132 - val_y1_output_root_mean_squared_error: 0.7428 - val_y2_output_root_mean_squared_error: 1.4877\n",
            "Epoch 205/300\n",
            "10/10 [==============================] - 0s 10ms/step - loss: 1.9027 - y1_output_loss: 0.4540 - y2_output_loss: 1.4487 - y1_output_root_mean_squared_error: 0.6738 - y2_output_root_mean_squared_error: 1.2036 - val_loss: 2.5988 - val_y1_output_loss: 0.7428 - val_y2_output_loss: 1.8560 - val_y1_output_root_mean_squared_error: 0.8619 - val_y2_output_root_mean_squared_error: 1.3623\n",
            "Epoch 206/300\n",
            "10/10 [==============================] - 0s 7ms/step - loss: 1.7786 - y1_output_loss: 0.4207 - y2_output_loss: 1.3579 - y1_output_root_mean_squared_error: 0.6486 - y2_output_root_mean_squared_error: 1.1653 - val_loss: 2.0424 - val_y1_output_loss: 0.4437 - val_y2_output_loss: 1.5987 - val_y1_output_root_mean_squared_error: 0.6661 - val_y2_output_root_mean_squared_error: 1.2644\n",
            "Epoch 207/300\n",
            "10/10 [==============================] - 0s 6ms/step - loss: 1.6999 - y1_output_loss: 0.3976 - y2_output_loss: 1.3023 - y1_output_root_mean_squared_error: 0.6306 - y2_output_root_mean_squared_error: 1.1412 - val_loss: 2.0636 - val_y1_output_loss: 0.4411 - val_y2_output_loss: 1.6225 - val_y1_output_root_mean_squared_error: 0.6641 - val_y2_output_root_mean_squared_error: 1.2738\n",
            "Epoch 208/300\n",
            "10/10 [==============================] - 0s 8ms/step - loss: 1.7187 - y1_output_loss: 0.4015 - y2_output_loss: 1.3172 - y1_output_root_mean_squared_error: 0.6337 - y2_output_root_mean_squared_error: 1.1477 - val_loss: 1.9768 - val_y1_output_loss: 0.4042 - val_y2_output_loss: 1.5726 - val_y1_output_root_mean_squared_error: 0.6358 - val_y2_output_root_mean_squared_error: 1.2540\n",
            "Epoch 209/300\n",
            "10/10 [==============================] - 0s 8ms/step - loss: 1.7056 - y1_output_loss: 0.3859 - y2_output_loss: 1.3197 - y1_output_root_mean_squared_error: 0.6212 - y2_output_root_mean_squared_error: 1.1488 - val_loss: 2.2803 - val_y1_output_loss: 0.5200 - val_y2_output_loss: 1.7602 - val_y1_output_root_mean_squared_error: 0.7211 - val_y2_output_root_mean_squared_error: 1.3267\n",
            "Epoch 210/300\n",
            "10/10 [==============================] - 0s 8ms/step - loss: 1.7691 - y1_output_loss: 0.3867 - y2_output_loss: 1.3824 - y1_output_root_mean_squared_error: 0.6219 - y2_output_root_mean_squared_error: 1.1757 - val_loss: 2.1799 - val_y1_output_loss: 0.4468 - val_y2_output_loss: 1.7330 - val_y1_output_root_mean_squared_error: 0.6685 - val_y2_output_root_mean_squared_error: 1.3164\n",
            "Epoch 211/300\n",
            "10/10 [==============================] - 0s 7ms/step - loss: 1.7436 - y1_output_loss: 0.3869 - y2_output_loss: 1.3567 - y1_output_root_mean_squared_error: 0.6220 - y2_output_root_mean_squared_error: 1.1648 - val_loss: 2.8522 - val_y1_output_loss: 0.5191 - val_y2_output_loss: 2.3330 - val_y1_output_root_mean_squared_error: 0.7205 - val_y2_output_root_mean_squared_error: 1.5274\n",
            "Epoch 212/300\n",
            "10/10 [==============================] - 0s 8ms/step - loss: 2.7583 - y1_output_loss: 0.5839 - y2_output_loss: 2.1744 - y1_output_root_mean_squared_error: 0.7641 - y2_output_root_mean_squared_error: 1.4746 - val_loss: 2.8867 - val_y1_output_loss: 0.5741 - val_y2_output_loss: 2.3126 - val_y1_output_root_mean_squared_error: 0.7577 - val_y2_output_root_mean_squared_error: 1.5207\n",
            "Epoch 213/300\n",
            "10/10 [==============================] - 0s 7ms/step - loss: 2.5094 - y1_output_loss: 0.5786 - y2_output_loss: 1.9307 - y1_output_root_mean_squared_error: 0.7607 - y2_output_root_mean_squared_error: 1.3895 - val_loss: 2.0694 - val_y1_output_loss: 0.4199 - val_y2_output_loss: 1.6495 - val_y1_output_root_mean_squared_error: 0.6480 - val_y2_output_root_mean_squared_error: 1.2843\n",
            "Epoch 214/300\n",
            "10/10 [==============================] - 0s 8ms/step - loss: 1.7034 - y1_output_loss: 0.3983 - y2_output_loss: 1.3051 - y1_output_root_mean_squared_error: 0.6311 - y2_output_root_mean_squared_error: 1.1424 - val_loss: 1.9978 - val_y1_output_loss: 0.4175 - val_y2_output_loss: 1.5803 - val_y1_output_root_mean_squared_error: 0.6462 - val_y2_output_root_mean_squared_error: 1.2571\n",
            "Epoch 215/300\n",
            "10/10 [==============================] - 0s 8ms/step - loss: 2.1661 - y1_output_loss: 0.4679 - y2_output_loss: 1.6981 - y1_output_root_mean_squared_error: 0.6841 - y2_output_root_mean_squared_error: 1.3031 - val_loss: 4.3151 - val_y1_output_loss: 0.9433 - val_y2_output_loss: 3.3718 - val_y1_output_root_mean_squared_error: 0.9712 - val_y2_output_root_mean_squared_error: 1.8363\n",
            "Epoch 216/300\n",
            "10/10 [==============================] - 0s 6ms/step - loss: 2.4604 - y1_output_loss: 0.6579 - y2_output_loss: 1.8026 - y1_output_root_mean_squared_error: 0.8111 - y2_output_root_mean_squared_error: 1.3426 - val_loss: 2.0139 - val_y1_output_loss: 0.4146 - val_y2_output_loss: 1.5994 - val_y1_output_root_mean_squared_error: 0.6439 - val_y2_output_root_mean_squared_error: 1.2647\n",
            "Epoch 217/300\n",
            "10/10 [==============================] - 0s 7ms/step - loss: 1.6414 - y1_output_loss: 0.3752 - y2_output_loss: 1.2662 - y1_output_root_mean_squared_error: 0.6125 - y2_output_root_mean_squared_error: 1.1253 - val_loss: 2.0442 - val_y1_output_loss: 0.4262 - val_y2_output_loss: 1.6180 - val_y1_output_root_mean_squared_error: 0.6528 - val_y2_output_root_mean_squared_error: 1.2720\n",
            "Epoch 218/300\n",
            "10/10 [==============================] - 0s 7ms/step - loss: 2.0857 - y1_output_loss: 0.4517 - y2_output_loss: 1.6340 - y1_output_root_mean_squared_error: 0.6721 - y2_output_root_mean_squared_error: 1.2783 - val_loss: 2.9501 - val_y1_output_loss: 0.6769 - val_y2_output_loss: 2.2732 - val_y1_output_root_mean_squared_error: 0.8227 - val_y2_output_root_mean_squared_error: 1.5077\n",
            "Epoch 219/300\n",
            "10/10 [==============================] - 0s 10ms/step - loss: 2.0493 - y1_output_loss: 0.5024 - y2_output_loss: 1.5469 - y1_output_root_mean_squared_error: 0.7088 - y2_output_root_mean_squared_error: 1.2438 - val_loss: 1.9587 - val_y1_output_loss: 0.4041 - val_y2_output_loss: 1.5546 - val_y1_output_root_mean_squared_error: 0.6357 - val_y2_output_root_mean_squared_error: 1.2468\n",
            "Epoch 220/300\n",
            "10/10 [==============================] - 0s 6ms/step - loss: 1.8740 - y1_output_loss: 0.4212 - y2_output_loss: 1.4528 - y1_output_root_mean_squared_error: 0.6490 - y2_output_root_mean_squared_error: 1.2053 - val_loss: 2.7604 - val_y1_output_loss: 0.5557 - val_y2_output_loss: 2.2047 - val_y1_output_root_mean_squared_error: 0.7454 - val_y2_output_root_mean_squared_error: 1.4848\n",
            "Epoch 221/300\n",
            "10/10 [==============================] - 0s 6ms/step - loss: 1.7066 - y1_output_loss: 0.3997 - y2_output_loss: 1.3069 - y1_output_root_mean_squared_error: 0.6322 - y2_output_root_mean_squared_error: 1.1432 - val_loss: 2.1295 - val_y1_output_loss: 0.4400 - val_y2_output_loss: 1.6895 - val_y1_output_root_mean_squared_error: 0.6633 - val_y2_output_root_mean_squared_error: 1.2998\n",
            "Epoch 222/300\n",
            "10/10 [==============================] - 0s 6ms/step - loss: 1.7211 - y1_output_loss: 0.3935 - y2_output_loss: 1.3276 - y1_output_root_mean_squared_error: 0.6273 - y2_output_root_mean_squared_error: 1.1522 - val_loss: 2.2703 - val_y1_output_loss: 0.4487 - val_y2_output_loss: 1.8215 - val_y1_output_root_mean_squared_error: 0.6699 - val_y2_output_root_mean_squared_error: 1.3496\n",
            "Epoch 223/300\n",
            "10/10 [==============================] - 0s 7ms/step - loss: 1.6637 - y1_output_loss: 0.3747 - y2_output_loss: 1.2890 - y1_output_root_mean_squared_error: 0.6121 - y2_output_root_mean_squared_error: 1.1353 - val_loss: 2.1276 - val_y1_output_loss: 0.4483 - val_y2_output_loss: 1.6793 - val_y1_output_root_mean_squared_error: 0.6695 - val_y2_output_root_mean_squared_error: 1.2959\n",
            "Epoch 224/300\n",
            "10/10 [==============================] - 0s 7ms/step - loss: 1.6523 - y1_output_loss: 0.3836 - y2_output_loss: 1.2687 - y1_output_root_mean_squared_error: 0.6193 - y2_output_root_mean_squared_error: 1.1264 - val_loss: 1.9865 - val_y1_output_loss: 0.4305 - val_y2_output_loss: 1.5560 - val_y1_output_root_mean_squared_error: 0.6561 - val_y2_output_root_mean_squared_error: 1.2474\n",
            "Epoch 225/300\n",
            "10/10 [==============================] - 0s 7ms/step - loss: 1.6696 - y1_output_loss: 0.3992 - y2_output_loss: 1.2704 - y1_output_root_mean_squared_error: 0.6318 - y2_output_root_mean_squared_error: 1.1271 - val_loss: 2.2648 - val_y1_output_loss: 0.5726 - val_y2_output_loss: 1.6922 - val_y1_output_root_mean_squared_error: 0.7567 - val_y2_output_root_mean_squared_error: 1.3008\n",
            "Epoch 226/300\n",
            "10/10 [==============================] - 0s 9ms/step - loss: 1.8125 - y1_output_loss: 0.3988 - y2_output_loss: 1.4138 - y1_output_root_mean_squared_error: 0.6315 - y2_output_root_mean_squared_error: 1.1890 - val_loss: 2.2152 - val_y1_output_loss: 0.4312 - val_y2_output_loss: 1.7840 - val_y1_output_root_mean_squared_error: 0.6566 - val_y2_output_root_mean_squared_error: 1.3357\n",
            "Epoch 227/300\n",
            "10/10 [==============================] - 0s 6ms/step - loss: 1.8024 - y1_output_loss: 0.4059 - y2_output_loss: 1.3964 - y1_output_root_mean_squared_error: 0.6371 - y2_output_root_mean_squared_error: 1.1817 - val_loss: 2.0703 - val_y1_output_loss: 0.4235 - val_y2_output_loss: 1.6467 - val_y1_output_root_mean_squared_error: 0.6508 - val_y2_output_root_mean_squared_error: 1.2833\n",
            "Epoch 228/300\n",
            "10/10 [==============================] - 0s 7ms/step - loss: 1.6447 - y1_output_loss: 0.3778 - y2_output_loss: 1.2670 - y1_output_root_mean_squared_error: 0.6146 - y2_output_root_mean_squared_error: 1.1256 - val_loss: 1.9493 - val_y1_output_loss: 0.4237 - val_y2_output_loss: 1.5255 - val_y1_output_root_mean_squared_error: 0.6509 - val_y2_output_root_mean_squared_error: 1.2351\n",
            "Epoch 229/300\n",
            "10/10 [==============================] - 0s 8ms/step - loss: 1.8822 - y1_output_loss: 0.4188 - y2_output_loss: 1.4634 - y1_output_root_mean_squared_error: 0.6471 - y2_output_root_mean_squared_error: 1.2097 - val_loss: 1.9904 - val_y1_output_loss: 0.4239 - val_y2_output_loss: 1.5665 - val_y1_output_root_mean_squared_error: 0.6511 - val_y2_output_root_mean_squared_error: 1.2516\n",
            "Epoch 230/300\n",
            "10/10 [==============================] - 0s 8ms/step - loss: 1.7142 - y1_output_loss: 0.3647 - y2_output_loss: 1.3495 - y1_output_root_mean_squared_error: 0.6039 - y2_output_root_mean_squared_error: 1.1617 - val_loss: 1.9885 - val_y1_output_loss: 0.4053 - val_y2_output_loss: 1.5832 - val_y1_output_root_mean_squared_error: 0.6366 - val_y2_output_root_mean_squared_error: 1.2582\n",
            "Epoch 231/300\n",
            "10/10 [==============================] - 0s 8ms/step - loss: 1.6352 - y1_output_loss: 0.3866 - y2_output_loss: 1.2486 - y1_output_root_mean_squared_error: 0.6218 - y2_output_root_mean_squared_error: 1.1174 - val_loss: 2.3504 - val_y1_output_loss: 0.4460 - val_y2_output_loss: 1.9044 - val_y1_output_root_mean_squared_error: 0.6679 - val_y2_output_root_mean_squared_error: 1.3800\n",
            "Epoch 232/300\n",
            "10/10 [==============================] - 0s 9ms/step - loss: 1.9259 - y1_output_loss: 0.4543 - y2_output_loss: 1.4716 - y1_output_root_mean_squared_error: 0.6740 - y2_output_root_mean_squared_error: 1.2131 - val_loss: 2.0507 - val_y1_output_loss: 0.4410 - val_y2_output_loss: 1.6097 - val_y1_output_root_mean_squared_error: 0.6641 - val_y2_output_root_mean_squared_error: 1.2688\n",
            "Epoch 233/300\n",
            "10/10 [==============================] - 0s 6ms/step - loss: 1.6744 - y1_output_loss: 0.3895 - y2_output_loss: 1.2849 - y1_output_root_mean_squared_error: 0.6241 - y2_output_root_mean_squared_error: 1.1335 - val_loss: 1.9311 - val_y1_output_loss: 0.4135 - val_y2_output_loss: 1.5176 - val_y1_output_root_mean_squared_error: 0.6430 - val_y2_output_root_mean_squared_error: 1.2319\n",
            "Epoch 234/300\n",
            "10/10 [==============================] - 0s 6ms/step - loss: 1.7511 - y1_output_loss: 0.3957 - y2_output_loss: 1.3554 - y1_output_root_mean_squared_error: 0.6290 - y2_output_root_mean_squared_error: 1.1642 - val_loss: 2.0073 - val_y1_output_loss: 0.3946 - val_y2_output_loss: 1.6127 - val_y1_output_root_mean_squared_error: 0.6281 - val_y2_output_root_mean_squared_error: 1.2699\n",
            "Epoch 235/300\n",
            "10/10 [==============================] - 0s 7ms/step - loss: 1.6863 - y1_output_loss: 0.3776 - y2_output_loss: 1.3086 - y1_output_root_mean_squared_error: 0.6145 - y2_output_root_mean_squared_error: 1.1440 - val_loss: 2.0056 - val_y1_output_loss: 0.4074 - val_y2_output_loss: 1.5982 - val_y1_output_root_mean_squared_error: 0.6382 - val_y2_output_root_mean_squared_error: 1.2642\n",
            "Epoch 236/300\n",
            "10/10 [==============================] - 0s 7ms/step - loss: 1.6641 - y1_output_loss: 0.3808 - y2_output_loss: 1.2833 - y1_output_root_mean_squared_error: 0.6171 - y2_output_root_mean_squared_error: 1.1328 - val_loss: 1.8934 - val_y1_output_loss: 0.4083 - val_y2_output_loss: 1.4851 - val_y1_output_root_mean_squared_error: 0.6390 - val_y2_output_root_mean_squared_error: 1.2186\n",
            "Epoch 237/300\n",
            "10/10 [==============================] - 0s 7ms/step - loss: 1.5390 - y1_output_loss: 0.3571 - y2_output_loss: 1.1819 - y1_output_root_mean_squared_error: 0.5975 - y2_output_root_mean_squared_error: 1.0872 - val_loss: 1.9400 - val_y1_output_loss: 0.4165 - val_y2_output_loss: 1.5235 - val_y1_output_root_mean_squared_error: 0.6454 - val_y2_output_root_mean_squared_error: 1.2343\n",
            "Epoch 238/300\n",
            "10/10 [==============================] - 0s 7ms/step - loss: 1.8574 - y1_output_loss: 0.3987 - y2_output_loss: 1.4587 - y1_output_root_mean_squared_error: 0.6314 - y2_output_root_mean_squared_error: 1.2078 - val_loss: 2.4751 - val_y1_output_loss: 0.4899 - val_y2_output_loss: 1.9852 - val_y1_output_root_mean_squared_error: 0.7000 - val_y2_output_root_mean_squared_error: 1.4090\n",
            "Epoch 239/300\n",
            "10/10 [==============================] - 0s 8ms/step - loss: 2.4676 - y1_output_loss: 0.5900 - y2_output_loss: 1.8776 - y1_output_root_mean_squared_error: 0.7681 - y2_output_root_mean_squared_error: 1.3703 - val_loss: 2.9104 - val_y1_output_loss: 0.7839 - val_y2_output_loss: 2.1265 - val_y1_output_root_mean_squared_error: 0.8854 - val_y2_output_root_mean_squared_error: 1.4583\n",
            "Epoch 240/300\n",
            "10/10 [==============================] - 0s 7ms/step - loss: 2.2559 - y1_output_loss: 0.5478 - y2_output_loss: 1.7082 - y1_output_root_mean_squared_error: 0.7401 - y2_output_root_mean_squared_error: 1.3070 - val_loss: 1.8760 - val_y1_output_loss: 0.3984 - val_y2_output_loss: 1.4776 - val_y1_output_root_mean_squared_error: 0.6312 - val_y2_output_root_mean_squared_error: 1.2156\n",
            "Epoch 241/300\n",
            "10/10 [==============================] - 0s 6ms/step - loss: 1.7656 - y1_output_loss: 0.3796 - y2_output_loss: 1.3860 - y1_output_root_mean_squared_error: 0.6161 - y2_output_root_mean_squared_error: 1.1773 - val_loss: 3.1252 - val_y1_output_loss: 0.5873 - val_y2_output_loss: 2.5379 - val_y1_output_root_mean_squared_error: 0.7664 - val_y2_output_root_mean_squared_error: 1.5931\n",
            "Epoch 242/300\n",
            "10/10 [==============================] - 0s 6ms/step - loss: 2.1801 - y1_output_loss: 0.4951 - y2_output_loss: 1.6850 - y1_output_root_mean_squared_error: 0.7036 - y2_output_root_mean_squared_error: 1.2981 - val_loss: 1.8717 - val_y1_output_loss: 0.4001 - val_y2_output_loss: 1.4716 - val_y1_output_root_mean_squared_error: 0.6326 - val_y2_output_root_mean_squared_error: 1.2131\n",
            "Epoch 243/300\n",
            "10/10 [==============================] - 0s 8ms/step - loss: 1.5703 - y1_output_loss: 0.3683 - y2_output_loss: 1.2020 - y1_output_root_mean_squared_error: 0.6069 - y2_output_root_mean_squared_error: 1.0963 - val_loss: 1.9939 - val_y1_output_loss: 0.4132 - val_y2_output_loss: 1.5807 - val_y1_output_root_mean_squared_error: 0.6428 - val_y2_output_root_mean_squared_error: 1.2572\n",
            "Epoch 244/300\n",
            "10/10 [==============================] - 0s 8ms/step - loss: 1.6490 - y1_output_loss: 0.3880 - y2_output_loss: 1.2609 - y1_output_root_mean_squared_error: 0.6229 - y2_output_root_mean_squared_error: 1.1229 - val_loss: 2.0032 - val_y1_output_loss: 0.4090 - val_y2_output_loss: 1.5942 - val_y1_output_root_mean_squared_error: 0.6395 - val_y2_output_root_mean_squared_error: 1.2626\n",
            "Epoch 245/300\n",
            "10/10 [==============================] - 0s 7ms/step - loss: 1.8656 - y1_output_loss: 0.4183 - y2_output_loss: 1.4472 - y1_output_root_mean_squared_error: 0.6468 - y2_output_root_mean_squared_error: 1.2030 - val_loss: 2.2112 - val_y1_output_loss: 0.5065 - val_y2_output_loss: 1.7047 - val_y1_output_root_mean_squared_error: 0.7117 - val_y2_output_root_mean_squared_error: 1.3056\n",
            "Epoch 246/300\n",
            "10/10 [==============================] - 0s 8ms/step - loss: 1.6111 - y1_output_loss: 0.4087 - y2_output_loss: 1.2024 - y1_output_root_mean_squared_error: 0.6393 - y2_output_root_mean_squared_error: 1.0965 - val_loss: 2.4578 - val_y1_output_loss: 0.5465 - val_y2_output_loss: 1.9113 - val_y1_output_root_mean_squared_error: 0.7393 - val_y2_output_root_mean_squared_error: 1.3825\n",
            "Epoch 247/300\n",
            "10/10 [==============================] - 0s 6ms/step - loss: 2.1686 - y1_output_loss: 0.5209 - y2_output_loss: 1.6476 - y1_output_root_mean_squared_error: 0.7218 - y2_output_root_mean_squared_error: 1.2836 - val_loss: 2.5533 - val_y1_output_loss: 0.5781 - val_y2_output_loss: 1.9752 - val_y1_output_root_mean_squared_error: 0.7603 - val_y2_output_root_mean_squared_error: 1.4054\n",
            "Epoch 248/300\n",
            "10/10 [==============================] - 0s 8ms/step - loss: 2.1498 - y1_output_loss: 0.4931 - y2_output_loss: 1.6567 - y1_output_root_mean_squared_error: 0.7022 - y2_output_root_mean_squared_error: 1.2871 - val_loss: 1.9166 - val_y1_output_loss: 0.3965 - val_y2_output_loss: 1.5200 - val_y1_output_root_mean_squared_error: 0.6297 - val_y2_output_root_mean_squared_error: 1.2329\n",
            "Epoch 249/300\n",
            "10/10 [==============================] - 0s 6ms/step - loss: 1.5600 - y1_output_loss: 0.3635 - y2_output_loss: 1.1965 - y1_output_root_mean_squared_error: 0.6029 - y2_output_root_mean_squared_error: 1.0938 - val_loss: 2.1827 - val_y1_output_loss: 0.5215 - val_y2_output_loss: 1.6612 - val_y1_output_root_mean_squared_error: 0.7222 - val_y2_output_root_mean_squared_error: 1.2889\n",
            "Epoch 250/300\n",
            "10/10 [==============================] - 0s 9ms/step - loss: 2.5666 - y1_output_loss: 0.5230 - y2_output_loss: 2.0435 - y1_output_root_mean_squared_error: 0.7232 - y2_output_root_mean_squared_error: 1.4295 - val_loss: 1.9179 - val_y1_output_loss: 0.4160 - val_y2_output_loss: 1.5020 - val_y1_output_root_mean_squared_error: 0.6449 - val_y2_output_root_mean_squared_error: 1.2255\n",
            "Epoch 251/300\n",
            "10/10 [==============================] - 0s 6ms/step - loss: 1.7213 - y1_output_loss: 0.3950 - y2_output_loss: 1.3263 - y1_output_root_mean_squared_error: 0.6285 - y2_output_root_mean_squared_error: 1.1516 - val_loss: 1.8904 - val_y1_output_loss: 0.4170 - val_y2_output_loss: 1.4734 - val_y1_output_root_mean_squared_error: 0.6458 - val_y2_output_root_mean_squared_error: 1.2139\n",
            "Epoch 252/300\n",
            "10/10 [==============================] - 0s 7ms/step - loss: 1.5479 - y1_output_loss: 0.3498 - y2_output_loss: 1.1981 - y1_output_root_mean_squared_error: 0.5914 - y2_output_root_mean_squared_error: 1.0946 - val_loss: 1.9728 - val_y1_output_loss: 0.4553 - val_y2_output_loss: 1.5174 - val_y1_output_root_mean_squared_error: 0.6748 - val_y2_output_root_mean_squared_error: 1.2318\n",
            "Epoch 253/300\n",
            "10/10 [==============================] - 0s 7ms/step - loss: 1.7677 - y1_output_loss: 0.4098 - y2_output_loss: 1.3578 - y1_output_root_mean_squared_error: 0.6402 - y2_output_root_mean_squared_error: 1.1653 - val_loss: 1.9148 - val_y1_output_loss: 0.4131 - val_y2_output_loss: 1.5017 - val_y1_output_root_mean_squared_error: 0.6428 - val_y2_output_root_mean_squared_error: 1.2254\n",
            "Epoch 254/300\n",
            "10/10 [==============================] - 0s 8ms/step - loss: 1.6575 - y1_output_loss: 0.4072 - y2_output_loss: 1.2504 - y1_output_root_mean_squared_error: 0.6381 - y2_output_root_mean_squared_error: 1.1182 - val_loss: 2.0867 - val_y1_output_loss: 0.4826 - val_y2_output_loss: 1.6041 - val_y1_output_root_mean_squared_error: 0.6947 - val_y2_output_root_mean_squared_error: 1.2665\n",
            "Epoch 255/300\n",
            "10/10 [==============================] - 0s 7ms/step - loss: 1.6782 - y1_output_loss: 0.3829 - y2_output_loss: 1.2953 - y1_output_root_mean_squared_error: 0.6188 - y2_output_root_mean_squared_error: 1.1381 - val_loss: 2.8746 - val_y1_output_loss: 0.5717 - val_y2_output_loss: 2.3029 - val_y1_output_root_mean_squared_error: 0.7561 - val_y2_output_root_mean_squared_error: 1.5175\n",
            "Epoch 256/300\n",
            "10/10 [==============================] - 0s 7ms/step - loss: 2.7001 - y1_output_loss: 0.5310 - y2_output_loss: 2.1691 - y1_output_root_mean_squared_error: 0.7287 - y2_output_root_mean_squared_error: 1.4728 - val_loss: 1.8470 - val_y1_output_loss: 0.3932 - val_y2_output_loss: 1.4538 - val_y1_output_root_mean_squared_error: 0.6271 - val_y2_output_root_mean_squared_error: 1.2057\n",
            "Epoch 257/300\n",
            "10/10 [==============================] - 0s 7ms/step - loss: 1.7497 - y1_output_loss: 0.4112 - y2_output_loss: 1.3385 - y1_output_root_mean_squared_error: 0.6413 - y2_output_root_mean_squared_error: 1.1569 - val_loss: 2.2199 - val_y1_output_loss: 0.4910 - val_y2_output_loss: 1.7289 - val_y1_output_root_mean_squared_error: 0.7007 - val_y2_output_root_mean_squared_error: 1.3149\n",
            "Epoch 258/300\n",
            "10/10 [==============================] - 0s 9ms/step - loss: 1.8831 - y1_output_loss: 0.3774 - y2_output_loss: 1.5057 - y1_output_root_mean_squared_error: 0.6144 - y2_output_root_mean_squared_error: 1.2271 - val_loss: 2.4287 - val_y1_output_loss: 0.5240 - val_y2_output_loss: 1.9047 - val_y1_output_root_mean_squared_error: 0.7239 - val_y2_output_root_mean_squared_error: 1.3801\n",
            "Epoch 259/300\n",
            "10/10 [==============================] - 0s 7ms/step - loss: 1.9471 - y1_output_loss: 0.4480 - y2_output_loss: 1.4991 - y1_output_root_mean_squared_error: 0.6694 - y2_output_root_mean_squared_error: 1.2244 - val_loss: 2.0350 - val_y1_output_loss: 0.5233 - val_y2_output_loss: 1.5118 - val_y1_output_root_mean_squared_error: 0.7234 - val_y2_output_root_mean_squared_error: 1.2295\n",
            "Epoch 260/300\n",
            "10/10 [==============================] - 0s 8ms/step - loss: 1.6791 - y1_output_loss: 0.3945 - y2_output_loss: 1.2846 - y1_output_root_mean_squared_error: 0.6281 - y2_output_root_mean_squared_error: 1.1334 - val_loss: 2.0728 - val_y1_output_loss: 0.4481 - val_y2_output_loss: 1.6247 - val_y1_output_root_mean_squared_error: 0.6694 - val_y2_output_root_mean_squared_error: 1.2746\n",
            "Epoch 261/300\n",
            "10/10 [==============================] - 0s 7ms/step - loss: 1.6626 - y1_output_loss: 0.3850 - y2_output_loss: 1.2776 - y1_output_root_mean_squared_error: 0.6205 - y2_output_root_mean_squared_error: 1.1303 - val_loss: 1.8579 - val_y1_output_loss: 0.3879 - val_y2_output_loss: 1.4700 - val_y1_output_root_mean_squared_error: 0.6228 - val_y2_output_root_mean_squared_error: 1.2124\n",
            "Epoch 262/300\n",
            "10/10 [==============================] - 0s 7ms/step - loss: 1.5098 - y1_output_loss: 0.3645 - y2_output_loss: 1.1453 - y1_output_root_mean_squared_error: 0.6037 - y2_output_root_mean_squared_error: 1.0702 - val_loss: 2.2072 - val_y1_output_loss: 0.4515 - val_y2_output_loss: 1.7556 - val_y1_output_root_mean_squared_error: 0.6720 - val_y2_output_root_mean_squared_error: 1.3250\n",
            "Epoch 263/300\n",
            "10/10 [==============================] - 0s 7ms/step - loss: 1.7140 - y1_output_loss: 0.4236 - y2_output_loss: 1.2905 - y1_output_root_mean_squared_error: 0.6508 - y2_output_root_mean_squared_error: 1.1360 - val_loss: 1.8591 - val_y1_output_loss: 0.4031 - val_y2_output_loss: 1.4560 - val_y1_output_root_mean_squared_error: 0.6349 - val_y2_output_root_mean_squared_error: 1.2066\n",
            "Epoch 264/300\n",
            "10/10 [==============================] - 0s 6ms/step - loss: 1.5323 - y1_output_loss: 0.3601 - y2_output_loss: 1.1722 - y1_output_root_mean_squared_error: 0.6001 - y2_output_root_mean_squared_error: 1.0827 - val_loss: 1.8752 - val_y1_output_loss: 0.3960 - val_y2_output_loss: 1.4792 - val_y1_output_root_mean_squared_error: 0.6293 - val_y2_output_root_mean_squared_error: 1.2162\n",
            "Epoch 265/300\n",
            "10/10 [==============================] - 0s 7ms/step - loss: 2.0607 - y1_output_loss: 0.4442 - y2_output_loss: 1.6165 - y1_output_root_mean_squared_error: 0.6664 - y2_output_root_mean_squared_error: 1.2714 - val_loss: 1.8612 - val_y1_output_loss: 0.3998 - val_y2_output_loss: 1.4614 - val_y1_output_root_mean_squared_error: 0.6323 - val_y2_output_root_mean_squared_error: 1.2089\n",
            "Epoch 266/300\n",
            "10/10 [==============================] - 0s 7ms/step - loss: 1.5945 - y1_output_loss: 0.3750 - y2_output_loss: 1.2196 - y1_output_root_mean_squared_error: 0.6124 - y2_output_root_mean_squared_error: 1.1043 - val_loss: 1.8893 - val_y1_output_loss: 0.4149 - val_y2_output_loss: 1.4744 - val_y1_output_root_mean_squared_error: 0.6441 - val_y2_output_root_mean_squared_error: 1.2143\n",
            "Epoch 267/300\n",
            "10/10 [==============================] - 0s 8ms/step - loss: 1.4850 - y1_output_loss: 0.3447 - y2_output_loss: 1.1403 - y1_output_root_mean_squared_error: 0.5871 - y2_output_root_mean_squared_error: 1.0678 - val_loss: 1.8136 - val_y1_output_loss: 0.3852 - val_y2_output_loss: 1.4285 - val_y1_output_root_mean_squared_error: 0.6206 - val_y2_output_root_mean_squared_error: 1.1952\n",
            "Epoch 268/300\n",
            "10/10 [==============================] - 0s 7ms/step - loss: 1.9316 - y1_output_loss: 0.4217 - y2_output_loss: 1.5099 - y1_output_root_mean_squared_error: 0.6494 - y2_output_root_mean_squared_error: 1.2288 - val_loss: 4.6692 - val_y1_output_loss: 0.8948 - val_y2_output_loss: 3.7744 - val_y1_output_root_mean_squared_error: 0.9459 - val_y2_output_root_mean_squared_error: 1.9428\n",
            "Epoch 269/300\n",
            "10/10 [==============================] - 0s 7ms/step - loss: 3.0563 - y1_output_loss: 0.7558 - y2_output_loss: 2.3005 - y1_output_root_mean_squared_error: 0.8694 - y2_output_root_mean_squared_error: 1.5167 - val_loss: 1.9865 - val_y1_output_loss: 0.4345 - val_y2_output_loss: 1.5521 - val_y1_output_root_mean_squared_error: 0.6591 - val_y2_output_root_mean_squared_error: 1.2458\n",
            "Epoch 270/300\n",
            "10/10 [==============================] - 0s 6ms/step - loss: 1.6406 - y1_output_loss: 0.3766 - y2_output_loss: 1.2640 - y1_output_root_mean_squared_error: 0.6137 - y2_output_root_mean_squared_error: 1.1243 - val_loss: 2.0588 - val_y1_output_loss: 0.4270 - val_y2_output_loss: 1.6317 - val_y1_output_root_mean_squared_error: 0.6535 - val_y2_output_root_mean_squared_error: 1.2774\n",
            "Epoch 271/300\n",
            "10/10 [==============================] - 0s 9ms/step - loss: 1.6382 - y1_output_loss: 0.4080 - y2_output_loss: 1.2301 - y1_output_root_mean_squared_error: 0.6388 - y2_output_root_mean_squared_error: 1.1091 - val_loss: 1.7948 - val_y1_output_loss: 0.3751 - val_y2_output_loss: 1.4198 - val_y1_output_root_mean_squared_error: 0.6124 - val_y2_output_root_mean_squared_error: 1.1915\n",
            "Epoch 272/300\n",
            "10/10 [==============================] - 0s 8ms/step - loss: 1.5286 - y1_output_loss: 0.3577 - y2_output_loss: 1.1709 - y1_output_root_mean_squared_error: 0.5981 - y2_output_root_mean_squared_error: 1.0821 - val_loss: 2.0363 - val_y1_output_loss: 0.4735 - val_y2_output_loss: 1.5628 - val_y1_output_root_mean_squared_error: 0.6881 - val_y2_output_root_mean_squared_error: 1.2501\n",
            "Epoch 273/300\n",
            "10/10 [==============================] - 0s 7ms/step - loss: 1.6605 - y1_output_loss: 0.3907 - y2_output_loss: 1.2698 - y1_output_root_mean_squared_error: 0.6251 - y2_output_root_mean_squared_error: 1.1268 - val_loss: 2.2664 - val_y1_output_loss: 0.4503 - val_y2_output_loss: 1.8161 - val_y1_output_root_mean_squared_error: 0.6710 - val_y2_output_root_mean_squared_error: 1.3476\n",
            "Epoch 274/300\n",
            "10/10 [==============================] - 0s 8ms/step - loss: 2.0786 - y1_output_loss: 0.4457 - y2_output_loss: 1.6330 - y1_output_root_mean_squared_error: 0.6676 - y2_output_root_mean_squared_error: 1.2779 - val_loss: 1.9842 - val_y1_output_loss: 0.3971 - val_y2_output_loss: 1.5871 - val_y1_output_root_mean_squared_error: 0.6301 - val_y2_output_root_mean_squared_error: 1.2598\n",
            "Epoch 275/300\n",
            "10/10 [==============================] - 0s 7ms/step - loss: 1.7890 - y1_output_loss: 0.3951 - y2_output_loss: 1.3939 - y1_output_root_mean_squared_error: 0.6286 - y2_output_root_mean_squared_error: 1.1806 - val_loss: 1.9198 - val_y1_output_loss: 0.4340 - val_y2_output_loss: 1.4858 - val_y1_output_root_mean_squared_error: 0.6588 - val_y2_output_root_mean_squared_error: 1.2189\n",
            "Epoch 276/300\n",
            "10/10 [==============================] - 0s 7ms/step - loss: 1.4886 - y1_output_loss: 0.3622 - y2_output_loss: 1.1265 - y1_output_root_mean_squared_error: 0.6018 - y2_output_root_mean_squared_error: 1.0613 - val_loss: 2.1209 - val_y1_output_loss: 0.4746 - val_y2_output_loss: 1.6463 - val_y1_output_root_mean_squared_error: 0.6889 - val_y2_output_root_mean_squared_error: 1.2831\n",
            "Epoch 277/300\n",
            "10/10 [==============================] - 0s 9ms/step - loss: 1.5630 - y1_output_loss: 0.3845 - y2_output_loss: 1.1785 - y1_output_root_mean_squared_error: 0.6200 - y2_output_root_mean_squared_error: 1.0856 - val_loss: 1.8561 - val_y1_output_loss: 0.4536 - val_y2_output_loss: 1.4026 - val_y1_output_root_mean_squared_error: 0.6735 - val_y2_output_root_mean_squared_error: 1.1843\n",
            "Epoch 278/300\n",
            "10/10 [==============================] - 0s 7ms/step - loss: 1.9551 - y1_output_loss: 0.4518 - y2_output_loss: 1.5033 - y1_output_root_mean_squared_error: 0.6722 - y2_output_root_mean_squared_error: 1.2261 - val_loss: 1.8262 - val_y1_output_loss: 0.3979 - val_y2_output_loss: 1.4284 - val_y1_output_root_mean_squared_error: 0.6308 - val_y2_output_root_mean_squared_error: 1.1951\n",
            "Epoch 279/300\n",
            "10/10 [==============================] - 0s 7ms/step - loss: 1.4666 - y1_output_loss: 0.3652 - y2_output_loss: 1.1015 - y1_output_root_mean_squared_error: 0.6043 - y2_output_root_mean_squared_error: 1.0495 - val_loss: 1.7998 - val_y1_output_loss: 0.4028 - val_y2_output_loss: 1.3970 - val_y1_output_root_mean_squared_error: 0.6347 - val_y2_output_root_mean_squared_error: 1.1819\n",
            "Epoch 280/300\n",
            "10/10 [==============================] - 0s 6ms/step - loss: 1.7778 - y1_output_loss: 0.3978 - y2_output_loss: 1.3800 - y1_output_root_mean_squared_error: 0.6307 - y2_output_root_mean_squared_error: 1.1747 - val_loss: 4.3613 - val_y1_output_loss: 0.7509 - val_y2_output_loss: 3.6104 - val_y1_output_root_mean_squared_error: 0.8666 - val_y2_output_root_mean_squared_error: 1.9001\n",
            "Epoch 281/300\n",
            "10/10 [==============================] - 0s 8ms/step - loss: 2.4335 - y1_output_loss: 0.5443 - y2_output_loss: 1.8892 - y1_output_root_mean_squared_error: 0.7378 - y2_output_root_mean_squared_error: 1.3745 - val_loss: 1.8337 - val_y1_output_loss: 0.3894 - val_y2_output_loss: 1.4443 - val_y1_output_root_mean_squared_error: 0.6240 - val_y2_output_root_mean_squared_error: 1.2018\n",
            "Epoch 282/300\n",
            "10/10 [==============================] - 0s 7ms/step - loss: 1.5074 - y1_output_loss: 0.3618 - y2_output_loss: 1.1456 - y1_output_root_mean_squared_error: 0.6015 - y2_output_root_mean_squared_error: 1.0703 - val_loss: 1.9114 - val_y1_output_loss: 0.4130 - val_y2_output_loss: 1.4984 - val_y1_output_root_mean_squared_error: 0.6427 - val_y2_output_root_mean_squared_error: 1.2241\n",
            "Epoch 283/300\n",
            "10/10 [==============================] - 0s 10ms/step - loss: 2.1035 - y1_output_loss: 0.3981 - y2_output_loss: 1.7054 - y1_output_root_mean_squared_error: 0.6310 - y2_output_root_mean_squared_error: 1.3059 - val_loss: 5.9780 - val_y1_output_loss: 1.4185 - val_y2_output_loss: 4.5595 - val_y1_output_root_mean_squared_error: 1.1910 - val_y2_output_root_mean_squared_error: 2.1353\n",
            "Epoch 284/300\n",
            "10/10 [==============================] - 0s 8ms/step - loss: 3.2395 - y1_output_loss: 0.6178 - y2_output_loss: 2.6217 - y1_output_root_mean_squared_error: 0.7860 - y2_output_root_mean_squared_error: 1.6192 - val_loss: 1.9047 - val_y1_output_loss: 0.4334 - val_y2_output_loss: 1.4713 - val_y1_output_root_mean_squared_error: 0.6584 - val_y2_output_root_mean_squared_error: 1.2130\n",
            "Epoch 285/300\n",
            "10/10 [==============================] - 0s 8ms/step - loss: 1.8001 - y1_output_loss: 0.4416 - y2_output_loss: 1.3585 - y1_output_root_mean_squared_error: 0.6645 - y2_output_root_mean_squared_error: 1.1656 - val_loss: 1.8346 - val_y1_output_loss: 0.3997 - val_y2_output_loss: 1.4349 - val_y1_output_root_mean_squared_error: 0.6322 - val_y2_output_root_mean_squared_error: 1.1979\n",
            "Epoch 286/300\n",
            "10/10 [==============================] - 0s 9ms/step - loss: 1.7332 - y1_output_loss: 0.3890 - y2_output_loss: 1.3442 - y1_output_root_mean_squared_error: 0.6237 - y2_output_root_mean_squared_error: 1.1594 - val_loss: 1.8046 - val_y1_output_loss: 0.4223 - val_y2_output_loss: 1.3822 - val_y1_output_root_mean_squared_error: 0.6499 - val_y2_output_root_mean_squared_error: 1.1757\n",
            "Epoch 287/300\n",
            "10/10 [==============================] - 0s 7ms/step - loss: 1.4173 - y1_output_loss: 0.3354 - y2_output_loss: 1.0819 - y1_output_root_mean_squared_error: 0.5791 - y2_output_root_mean_squared_error: 1.0401 - val_loss: 1.7671 - val_y1_output_loss: 0.3754 - val_y2_output_loss: 1.3917 - val_y1_output_root_mean_squared_error: 0.6127 - val_y2_output_root_mean_squared_error: 1.1797\n",
            "Epoch 288/300\n",
            "10/10 [==============================] - 0s 8ms/step - loss: 1.9308 - y1_output_loss: 0.4303 - y2_output_loss: 1.5005 - y1_output_root_mean_squared_error: 0.6560 - y2_output_root_mean_squared_error: 1.2250 - val_loss: 1.7475 - val_y1_output_loss: 0.3715 - val_y2_output_loss: 1.3760 - val_y1_output_root_mean_squared_error: 0.6095 - val_y2_output_root_mean_squared_error: 1.1730\n",
            "Epoch 289/300\n",
            "10/10 [==============================] - 0s 7ms/step - loss: 1.4151 - y1_output_loss: 0.3393 - y2_output_loss: 1.0758 - y1_output_root_mean_squared_error: 0.5825 - y2_output_root_mean_squared_error: 1.0372 - val_loss: 1.7915 - val_y1_output_loss: 0.3786 - val_y2_output_loss: 1.4129 - val_y1_output_root_mean_squared_error: 0.6153 - val_y2_output_root_mean_squared_error: 1.1886\n",
            "Epoch 290/300\n",
            "10/10 [==============================] - 0s 7ms/step - loss: 1.4845 - y1_output_loss: 0.3515 - y2_output_loss: 1.1331 - y1_output_root_mean_squared_error: 0.5928 - y2_output_root_mean_squared_error: 1.0645 - val_loss: 1.8827 - val_y1_output_loss: 0.3904 - val_y2_output_loss: 1.4923 - val_y1_output_root_mean_squared_error: 0.6248 - val_y2_output_root_mean_squared_error: 1.2216\n",
            "Epoch 291/300\n",
            "10/10 [==============================] - 0s 7ms/step - loss: 1.5806 - y1_output_loss: 0.3616 - y2_output_loss: 1.2190 - y1_output_root_mean_squared_error: 0.6014 - y2_output_root_mean_squared_error: 1.1041 - val_loss: 1.8055 - val_y1_output_loss: 0.4059 - val_y2_output_loss: 1.3997 - val_y1_output_root_mean_squared_error: 0.6371 - val_y2_output_root_mean_squared_error: 1.1831\n",
            "Epoch 292/300\n",
            "10/10 [==============================] - 0s 7ms/step - loss: 2.0757 - y1_output_loss: 0.4963 - y2_output_loss: 1.5794 - y1_output_root_mean_squared_error: 0.7045 - y2_output_root_mean_squared_error: 1.2567 - val_loss: 2.0919 - val_y1_output_loss: 0.4539 - val_y2_output_loss: 1.6380 - val_y1_output_root_mean_squared_error: 0.6737 - val_y2_output_root_mean_squared_error: 1.2798\n",
            "Epoch 293/300\n",
            "10/10 [==============================] - 0s 7ms/step - loss: 1.4739 - y1_output_loss: 0.3533 - y2_output_loss: 1.1206 - y1_output_root_mean_squared_error: 0.5944 - y2_output_root_mean_squared_error: 1.0586 - val_loss: 1.7791 - val_y1_output_loss: 0.3735 - val_y2_output_loss: 1.4055 - val_y1_output_root_mean_squared_error: 0.6112 - val_y2_output_root_mean_squared_error: 1.1856\n",
            "Epoch 294/300\n",
            "10/10 [==============================] - 0s 7ms/step - loss: 1.4080 - y1_output_loss: 0.3379 - y2_output_loss: 1.0702 - y1_output_root_mean_squared_error: 0.5813 - y2_output_root_mean_squared_error: 1.0345 - val_loss: 1.7720 - val_y1_output_loss: 0.3706 - val_y2_output_loss: 1.4014 - val_y1_output_root_mean_squared_error: 0.6087 - val_y2_output_root_mean_squared_error: 1.1838\n",
            "Epoch 295/300\n",
            "10/10 [==============================] - 0s 7ms/step - loss: 1.5691 - y1_output_loss: 0.3909 - y2_output_loss: 1.1781 - y1_output_root_mean_squared_error: 0.6252 - y2_output_root_mean_squared_error: 1.0854 - val_loss: 1.9909 - val_y1_output_loss: 0.4360 - val_y2_output_loss: 1.5549 - val_y1_output_root_mean_squared_error: 0.6603 - val_y2_output_root_mean_squared_error: 1.2470\n",
            "Epoch 296/300\n",
            "10/10 [==============================] - 0s 8ms/step - loss: 1.4865 - y1_output_loss: 0.3461 - y2_output_loss: 1.1403 - y1_output_root_mean_squared_error: 0.5883 - y2_output_root_mean_squared_error: 1.0679 - val_loss: 1.7512 - val_y1_output_loss: 0.3763 - val_y2_output_loss: 1.3749 - val_y1_output_root_mean_squared_error: 0.6134 - val_y2_output_root_mean_squared_error: 1.1726\n",
            "Epoch 297/300\n",
            "10/10 [==============================] - 0s 9ms/step - loss: 1.4077 - y1_output_loss: 0.3307 - y2_output_loss: 1.0771 - y1_output_root_mean_squared_error: 0.5750 - y2_output_root_mean_squared_error: 1.0378 - val_loss: 1.9135 - val_y1_output_loss: 0.3749 - val_y2_output_loss: 1.5386 - val_y1_output_root_mean_squared_error: 0.6123 - val_y2_output_root_mean_squared_error: 1.2404\n",
            "Epoch 298/300\n",
            "10/10 [==============================] - 0s 7ms/step - loss: 1.4613 - y1_output_loss: 0.3552 - y2_output_loss: 1.1061 - y1_output_root_mean_squared_error: 0.5960 - y2_output_root_mean_squared_error: 1.0517 - val_loss: 1.7669 - val_y1_output_loss: 0.3778 - val_y2_output_loss: 1.3891 - val_y1_output_root_mean_squared_error: 0.6147 - val_y2_output_root_mean_squared_error: 1.1786\n",
            "Epoch 299/300\n",
            "10/10 [==============================] - 0s 7ms/step - loss: 1.4935 - y1_output_loss: 0.3695 - y2_output_loss: 1.1240 - y1_output_root_mean_squared_error: 0.6079 - y2_output_root_mean_squared_error: 1.0602 - val_loss: 1.7286 - val_y1_output_loss: 0.3768 - val_y2_output_loss: 1.3518 - val_y1_output_root_mean_squared_error: 0.6138 - val_y2_output_root_mean_squared_error: 1.1627\n",
            "Epoch 300/300\n",
            "10/10 [==============================] - 0s 7ms/step - loss: 1.3927 - y1_output_loss: 0.3334 - y2_output_loss: 1.0593 - y1_output_root_mean_squared_error: 0.5774 - y2_output_root_mean_squared_error: 1.0292 - val_loss: 1.8304 - val_y1_output_loss: 0.3874 - val_y2_output_loss: 1.4430 - val_y1_output_root_mean_squared_error: 0.6224 - val_y2_output_root_mean_squared_error: 1.2012\n"
          ]
        }
      ]
    },
    {
      "cell_type": "code",
      "source": [
        "loss, y1_loss, y2_loss, y1_rmse, y2_rmse= model.evaluate(x=X_norm_test, y = ytest)"
      ],
      "metadata": {
        "colab": {
          "base_uri": "https://localhost:8080/"
        },
        "id": "RSLOQqqEN3u8",
        "outputId": "eaaa7d4a-cd46-46c7-c87b-7e79a5a2a713"
      },
      "execution_count": null,
      "outputs": [
        {
          "output_type": "stream",
          "name": "stdout",
          "text": [
            "5/5 [==============================] - 0s 3ms/step - loss: 1.8304 - y1_output_loss: 0.3874 - y2_output_loss: 1.4430 - y1_output_root_mean_squared_error: 0.6224 - y2_output_root_mean_squared_error: 1.2012\n"
          ]
        }
      ]
    },
    {
      "cell_type": "markdown",
      "source": [],
      "metadata": {
        "id": "7QfRdZziTMu8"
      }
    },
    {
      "cell_type": "code",
      "source": [
        "ypred = model.predict(X_norm_test)"
      ],
      "metadata": {
        "colab": {
          "base_uri": "https://localhost:8080/"
        },
        "id": "QaFVpqWeRUR5",
        "outputId": "0751457e-a3b6-4c7c-c636-0f2a25e4193d"
      },
      "execution_count": null,
      "outputs": [
        {
          "output_type": "stream",
          "name": "stdout",
          "text": [
            "5/5 [==============================] - 0s 11ms/step\n"
          ]
        }
      ]
    },
    {
      "cell_type": "code",
      "source": [
        "y_pred[0].shape"
      ],
      "metadata": {
        "colab": {
          "base_uri": "https://localhost:8080/"
        },
        "id": "e3FpyWKaTVzw",
        "outputId": "2f12b222-0ee7-4836-aa4b-e93768b7c1fc"
      },
      "execution_count": null,
      "outputs": [
        {
          "output_type": "execute_result",
          "data": {
            "text/plain": [
              "(154, 1)"
            ]
          },
          "metadata": {},
          "execution_count": 141
        }
      ]
    },
    {
      "cell_type": "code",
      "source": [
        "plot_diff(ytest[0], ypred[0], title = 'Y2')"
      ],
      "metadata": {
        "colab": {
          "base_uri": "https://localhost:8080/",
          "height": 295
        },
        "id": "UfZgMWtJReTS",
        "outputId": "e3d46f61-7c84-44ec-e05a-65d1785fc389"
      },
      "execution_count": null,
      "outputs": [
        {
          "output_type": "display_data",
          "data": {
            "text/plain": [
              "<Figure size 432x288 with 1 Axes>"
            ],
            "image/png": "[encoded data removed]"
          },
          "metadata": {
            "needs_background": "light"
          }
        }
      ]
    },
    {
      "cell_type": "code",
      "source": [
        "plot_diff(ytest[1], ypred[1], title = 'Y2')"
      ],
      "metadata": {
        "colab": {
          "base_uri": "https://localhost:8080/",
          "height": 295
        },
        "id": "hCBThCPNRhRu",
        "outputId": "5b7e0f17-2c28-4245-fe88-2fbe69dac4fa"
      },
      "execution_count": null,
      "outputs": [
        {
          "output_type": "display_data",
          "data": {
            "text/plain": [
              "<Figure size 432x288 with 1 Axes>"
            ],
            "image/png": "[encoded data removed]"
          },
          "metadata": {
            "needs_background": "light"
          }
        }
      ]
    },
    {
      "cell_type": "code",
      "source": [
        "plot_metrics('y1_output_root_mean_squared_error', 'Y1 RMSE', history)\n"
      ],
      "metadata": {
        "colab": {
          "base_uri": "https://localhost:8080/",
          "height": 281
        },
        "id": "PyvL2ePvSz8p",
        "outputId": "1e83d075-60f8-4898-c28d-60ff9fea6077"
      },
      "execution_count": null,
      "outputs": [
        {
          "output_type": "display_data",
          "data": {
            "text/plain": [
              "<Figure size 432x288 with 1 Axes>"
            ],
            "image/png": "[encoded data removed]"
          },
          "metadata": {
            "needs_background": "light"
          }
        }
      ]
    },
    {
      "cell_type": "code",
      "source": [
        "plot_metrics('y2_output_root_mean_squared_error', 'Y2 RMSE', history)\n"
      ],
      "metadata": {
        "colab": {
          "base_uri": "https://localhost:8080/",
          "height": 281
        },
        "id": "9b5DT2nsS6aY",
        "outputId": "66de890b-3013-4671-a31b-94f7f0fcab60"
      },
      "execution_count": null,
      "outputs": [
        {
          "output_type": "display_data",
          "data": {
            "text/plain": [
              "<Figure size 432x288 with 1 Axes>"
            ],
            "image/png": "[encoded data removed]"
          },
          "metadata": {
            "needs_background": "light"
          }
        }
      ]
    },
    {
      "cell_type": "code",
      "source": [
        "history.history.keys()"
      ],
      "metadata": {
        "colab": {
          "base_uri": "https://localhost:8080/"
        },
        "id": "bqTk_EjsT15m",
        "outputId": "983223ea-1f3c-42e9-dcbd-5328ae7b5e93"
      },
      "execution_count": null,
      "outputs": [
        {
          "output_type": "execute_result",
          "data": {
            "text/plain": [
              "dict_keys(['loss', 'y1_output_loss', 'y2_output_loss', 'y1_output_root_mean_squared_error', 'y2_output_root_mean_squared_error', 'val_loss', 'val_y1_output_loss', 'val_y2_output_loss', 'val_y1_output_root_mean_squared_error', 'val_y2_output_root_mean_squared_error'])"
            ]
          },
          "metadata": {},
          "execution_count": 153
        }
      ]
    },
    {
      "cell_type": "code",
      "source": [],
      "metadata": {
        "id": "od78tUi5T5JZ"
      },
      "execution_count": null,
      "outputs": []
    }
  ]
}